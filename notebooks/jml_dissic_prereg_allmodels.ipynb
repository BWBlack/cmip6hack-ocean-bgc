{
 "cells": [
  {
   "cell_type": "markdown",
   "metadata": {},
   "source": [
    "# Ocean interior carbon storage: Changes in preformed vs regenerated carbon"
   ]
  },
  {
   "cell_type": "code",
   "execution_count": 17,
   "metadata": {},
   "outputs": [
    {
     "data": {
      "text/html": [
       "<table style=\"border: 2px solid white;\">\n",
       "<tr>\n",
       "<td style=\"vertical-align: top; border: 0px solid white\">\n",
       "<h3 style=\"text-align: left;\">Client</h3>\n",
       "<ul style=\"text-align: left; list-style: none; margin: 0; padding: 0;\">\n",
       "  <li><b>Scheduler: </b>tcp://10.32.15.116:38649</li>\n",
       "  <li><b>Dashboard: </b><a href='/user/0000-0002-2993-7484/proxy/8787/status' target='_blank'>/user/0000-0002-2993-7484/proxy/8787/status</a>\n",
       "</ul>\n",
       "</td>\n",
       "<td style=\"vertical-align: top; border: 0px solid white\">\n",
       "<h3 style=\"text-align: left;\">Cluster</h3>\n",
       "<ul style=\"text-align: left; list-style:none; margin: 0; padding: 0;\">\n",
       "  <li><b>Workers: </b>1</li>\n",
       "  <li><b>Cores: </b>2</li>\n",
       "  <li><b>Memory: </b>11.50 GB</li>\n",
       "</ul>\n",
       "</td>\n",
       "</tr>\n",
       "</table>"
      ],
      "text/plain": [
       "<Client: 'tcp://10.32.15.116:38649' processes=1 threads=2, memory=11.50 GB>"
      ]
     },
     "execution_count": 17,
     "metadata": {},
     "output_type": "execute_result"
    }
   ],
   "source": [
    "from dask.distributed import Client\n",
    "\n",
    "client = Client(\"tcp://10.32.15.116:38649\")\n",
    "client"
   ]
  },
  {
   "cell_type": "code",
   "execution_count": 18,
   "metadata": {},
   "outputs": [],
   "source": [
    "%matplotlib inline\n",
    "\n",
    "import xarray as xr\n",
    "import intake\n",
    "import numpy as np\n",
    "from cmip6_preprocessing.preprocessing import read_data\n",
    "import warnings\n",
    "\n",
    "# util.py is in the local directory\n",
    "# it contains code that is common across project notebooks\n",
    "# or routines that are too extensive and might otherwise clutter\n",
    "# the notebook design\n",
    "import util "
   ]
  },
  {
   "cell_type": "code",
   "execution_count": 34,
   "metadata": {},
   "outputs": [],
   "source": [
    "# Functions\n",
    "def calc_o2sat_gsw(practical_salinity,potential_temperature,latitude,longitude,pressure):\n",
    "    import gsw\n",
    "    \n",
    "    #Calculate Absolute Salinity\n",
    "    gsw_as=xr.apply_ufunc(gsw.SA_from_SP,\n",
    "                          practical_salinity,\n",
    "                          pressure,\n",
    "                          longitude,\n",
    "                          latitude,\n",
    "                          dask='parallelized',\n",
    "                          output_dtypes=[practical_salinity.dtype])\n",
    "    \n",
    "    #Calculate Conservative Temperature\n",
    "    gsw_ct=xr.apply_ufunc(gsw.CT_from_t,\n",
    "                          gsw_as,\n",
    "                          potential_temperature,\n",
    "                          pressure,\n",
    "                          dask='parallelized',\n",
    "                          output_dtypes=[potential_temperature.dtype])\n",
    "\n",
    "    #Calculate Oxygen Saturation\n",
    "    gsw_o2sat=xr.apply_ufunc(gsw.O2sol,\n",
    "                             gsw_as,\n",
    "                             gsw_ct,\n",
    "                             pressure,\n",
    "                             longitude,\n",
    "                             latitude,\n",
    "                             dask='parallelized',\n",
    "                             output_dtypes=[gsw_ct.dtype])*1.0245e-3 # Convert umol/kg to mol/m3\n",
    "\n",
    "    return gsw_o2sat\n",
    "\n",
    "def _compute_slope(y):\n",
    "    \"\"\"\n",
    "    Private function to compute slopes at each grid cell using\n",
    "    polyfit. \n",
    "    \"\"\"\n",
    "    x = np.arange(len(y))\n",
    "    return np.polyfit(x, y, 1)[0] # return only the slope\n",
    "\n",
    "def compute_slope(da):\n",
    "    \"\"\"\n",
    "    Computes linear slope (m) at each grid cell.\n",
    "    \n",
    "    Args:\n",
    "      da: xarray DataArray to compute slopes for\n",
    "      \n",
    "    Returns:\n",
    "      xarray DataArray with slopes computed at each grid cell.\n",
    "    \"\"\"\n",
    "    # apply_ufunc can apply a raw numpy function to a grid.\n",
    "    # \n",
    "    # vectorize is only needed for functions that aren't already\n",
    "    # vectorized. You don't need it for polyfit in theory, but it's\n",
    "    # good to use when using things like np.cov.\n",
    "    #\n",
    "    # dask='parallelized' parallelizes this across dask chunks. It requires\n",
    "    # an output_dtypes of the numpy array datatype coming out.\n",
    "    #\n",
    "    # input_core_dims should pass the dimension that is being *reduced* by this operation,\n",
    "    # if one is being reduced.\n",
    "    slopes = xr.apply_ufunc(_compute_slope,\n",
    "                            da,\n",
    "                            vectorize=True,\n",
    "                            dask='parallelized', \n",
    "                            input_core_dims=[['time']],\n",
    "                            output_dtypes=[float],\n",
    "                            )\n",
    "    return slopes"
   ]
  },
  {
   "cell_type": "code",
   "execution_count": 20,
   "metadata": {},
   "outputs": [],
   "source": [
    "if util.is_ncar_host():\n",
    "    col = intake.open_esm_datastore(\"../catalogs/glade-cmip6.json\")\n",
    "else:\n",
    "    col = intake.open_esm_datastore(\"../catalogs/pangeo-cmip6_update_2019_10_18.json\")"
   ]
  },
  {
   "cell_type": "code",
   "execution_count": 21,
   "metadata": {},
   "outputs": [],
   "source": [
    "import pprint \n",
    "uni_dict = col.unique(['source_id', 'experiment_id', 'table_id'])\n",
    "#pprint.pprint(uni_dict, compact=True)"
   ]
  },
  {
   "cell_type": "code",
   "execution_count": 22,
   "metadata": {},
   "outputs": [
    {
     "data": {
      "text/plain": [
       "['GFDL-CM4',\n",
       " 'HadGEM3-GC31-LL',\n",
       " 'CNRM-CM6-1',\n",
       " 'SAM0-UNICON',\n",
       " 'GISS-E2-1-G',\n",
       " 'MCM-UA-1-0',\n",
       " 'EC-Earth3-Veg',\n",
       " 'BCC-ESM1',\n",
       " 'CAMS-CSM1-0',\n",
       " 'GFDL-ESM4',\n",
       " 'MIROC6',\n",
       " 'NESM3',\n",
       " 'CNRM-ESM2-1',\n",
       " 'GISS-E2-1-G-CC',\n",
       " 'CESM2',\n",
       " 'MIROC-ES2L',\n",
       " 'FGOALS-f3-L',\n",
       " 'IPSL-CM6A-LR',\n",
       " 'NorCPM1',\n",
       " 'UKESM1-0-LL',\n",
       " 'BCC-CSM2-MR']"
      ]
     },
     "execution_count": 22,
     "metadata": {},
     "output_type": "execute_result"
    }
   ],
   "source": [
    "models = set(uni_dict['source_id']['values']) # all the models\n",
    "\n",
    "for experiment_id in ['historical']:\n",
    "    query = dict(experiment_id=experiment_id, \n",
    "                 grid_label='gn',\n",
    "                 variable_id=['o2','thetao','so','dissic'])  \n",
    "    cat = col.search(**query)\n",
    "    models = models.intersection({model for model in cat.df.source_id.unique().tolist()})\n",
    "\n",
    "models=models-{'CanESM5','CESM2-WACCM','AWI-CM-1-1-MR'}\n",
    "models = list(models)\n",
    "models"
   ]
  },
  {
   "cell_type": "code",
   "execution_count": 23,
   "metadata": {},
   "outputs": [
    {
     "name": "stdout",
     "output_type": "stream",
     "text": [
      "--> The keys in the returned dictionary of datasets are constructed as follows:\n",
      "\t'activity_id.institution_id.source_id.experiment_id.table_id.grid_label'\n",
      "\n",
      "--> There will be 4 group(s)\n",
      "--> The keys in the returned dictionary of datasets are constructed as follows:\n",
      "\t'activity_id.institution_id.source_id.experiment_id.table_id.grid_label'\n",
      "\n",
      "--> There will be 7 group(s)\n",
      "CNRM-ESM2-1\n",
      "NON-REFERENCE MODE. This should just be used for a bunch of variables on the same grid\n",
      "IPSL-CM6A-LR\n",
      "NON-REFERENCE MODE. This should just be used for a bunch of variables on the same grid\n",
      "MIROC-ES2L\n",
      "NON-REFERENCE MODE. This should just be used for a bunch of variables on the same grid\n",
      "UKESM1-0-LL\n",
      "NON-REFERENCE MODE. This should just be used for a bunch of variables on the same grid\n"
     ]
    }
   ],
   "source": [
    "# read all data with oxygen, thetao, and so\n",
    "with warnings.catch_warnings(): # these lines just make sure that the warnings dont clutter your notebook\n",
    "    warnings.simplefilter(\"ignore\")\n",
    "    bgcdata_dict = read_data(col,\n",
    "                    experiment_id=['historical'],\n",
    "                    grid_label='gn',\n",
    "                    variable_id=['o2','dissic'],\n",
    "                    table_id = ['Omon'],\n",
    "                    source_id = models,\n",
    "                    #member_id = 'r1i1p1f1', # so that this runs faster for testing\n",
    "                    required_variable_id = ['o2','dissic']\n",
    "                    )"
   ]
  },
  {
   "cell_type": "code",
   "execution_count": 24,
   "metadata": {},
   "outputs": [
    {
     "name": "stdout",
     "output_type": "stream",
     "text": [
      "--> The keys in the returned dictionary of datasets are constructed as follows:\n",
      "\t'activity_id.institution_id.source_id.experiment_id.table_id.grid_label'\n",
      "\n",
      "--> There will be 4 group(s)\n",
      "CNRM-ESM2-1\n",
      "NON-REFERENCE MODE. This should just be used for a bunch of variables on the same grid\n",
      "IPSL-CM6A-LR\n",
      "NON-REFERENCE MODE. This should just be used for a bunch of variables on the same grid\n",
      "MIROC-ES2L\n",
      "NON-REFERENCE MODE. This should just be used for a bunch of variables on the same grid\n",
      "UKESM1-0-LL\n",
      "NON-REFERENCE MODE. This should just be used for a bunch of variables on the same grid\n"
     ]
    }
   ],
   "source": [
    "# read all data with thetao, and so\n",
    "with warnings.catch_warnings(): # these lines just make sure that the warnings dont clutter your notebook\n",
    "    warnings.simplefilter(\"ignore\")\n",
    "    sdata_dict = read_data(col,\n",
    "                    experiment_id=['historical'],\n",
    "                    grid_label='gn',\n",
    "                    variable_id=['so'],\n",
    "                    table_id = ['Omon'],\n",
    "                    source_id = list(bgcdata_dict.keys()),\n",
    "                    #member_id = 'r1i1p1f1', # so that this runs faster for testing\n",
    "                    required_variable_id = ['so']\n",
    "                    )"
   ]
  },
  {
   "cell_type": "code",
   "execution_count": 25,
   "metadata": {},
   "outputs": [
    {
     "name": "stdout",
     "output_type": "stream",
     "text": [
      "--> The keys in the returned dictionary of datasets are constructed as follows:\n",
      "\t'activity_id.institution_id.source_id.experiment_id.table_id.grid_label'\n",
      "\n",
      "--> There will be 4 group(s)\n",
      "CNRM-ESM2-1\n",
      "NON-REFERENCE MODE. This should just be used for a bunch of variables on the same grid\n",
      "IPSL-CM6A-LR\n",
      "NON-REFERENCE MODE. This should just be used for a bunch of variables on the same grid\n",
      "MIROC-ES2L\n",
      "NON-REFERENCE MODE. This should just be used for a bunch of variables on the same grid\n",
      "UKESM1-0-LL\n",
      "NON-REFERENCE MODE. This should just be used for a bunch of variables on the same grid\n"
     ]
    }
   ],
   "source": [
    "# read all data with thetao, and so\n",
    "with warnings.catch_warnings(): # these lines just make sure that the warnings dont clutter your notebook\n",
    "    warnings.simplefilter(\"ignore\")\n",
    "    tdata_dict = read_data(col,\n",
    "                    experiment_id=['historical'],\n",
    "                    grid_label='gn',\n",
    "                    variable_id=['thetao'],\n",
    "                    table_id = ['Omon'],\n",
    "                    source_id = list(bgcdata_dict.keys()),\n",
    "                    #member_id = 'r1i1p1f1', # so that this runs faster for testing\n",
    "                    required_variable_id = ['thetao']\n",
    "                    )"
   ]
  },
  {
   "cell_type": "markdown",
   "metadata": {},
   "source": [
    "Calculate Saturated Oxygen for each model"
   ]
  },
  {
   "cell_type": "code",
   "execution_count": 57,
   "metadata": {},
   "outputs": [],
   "source": [
    "for model in bgcdata_dict.keys():\n",
    "    bgcdata_dict[model]['gsw_o2sat']=calc_o2sat_gsw(sdata_dict[model]['so'],\n",
    "                                                    tdata_dict[model]['thetao'],\n",
    "                                                    bgcdata_dict[model]['lat'],\n",
    "                                                    bgcdata_dict[model]['lon'],\n",
    "                                                    bgcdata_dict[model]['lev'])\n",
    "    bgcdata_dict[model]['aou']=bgcdata_dict[model]['gsw_o2sat']-bgcdata_dict[model]['o2']\n",
    "    bgcdata_dict[model]['creg']=bgcdata_dict[model]['aou']*(117/170)\n",
    "    bgcdata_dict[model]['cpre']=bgcdata_dict[model]['dissic']-(bgcdata_dict[model]['aou']*(117/170))\n",
    "    \n",
    "# Force computation here, for efficiency when plotting later?    "
   ]
  },
  {
   "cell_type": "code",
   "execution_count": 54,
   "metadata": {},
   "outputs": [
    {
     "data": {
      "image/png": "[encoded data removed]",
      "text/plain": [
       "<Figure size 1080x720 with 16 Axes>"
      ]
     },
     "metadata": {
      "needs_background": "light"
     },
     "output_type": "display_data"
    }
   ],
   "source": [
    "import matplotlib.pyplot as plt\n",
    "\n",
    "fig, axes = plt.subplots(ncols=2, nrows=4,figsize=[15, 10])\n",
    "A = 0\n",
    "for model in bgcdata_dict.keys():\n",
    "    if A==2:\n",
    "        # This model is half Arctic!!\n",
    "        xlocp=140\n",
    "        xloca=275\n",
    "    else:\n",
    "        xlocp=125\n",
    "        xloca=255\n",
    "    (bgcdata_dict[model].dissic.isel(time=slice(-13,-1)).mean('time').isel(x=xloca)*1e3).plot(ax=axes[A,0],levels=np.arange(2000,2420,20),cmap='viridis',extend=\"both\")\n",
    "    (bgcdata_dict[model].dissic.isel(time=slice(-13,-1)).mean('time').isel(x=xlocp)*1e3).plot(ax=axes[A,1],levels=np.arange(2000,2420,20),cmap='viridis',extend=\"both\")\n",
    "    axes[A,0].set_title(model+\" DIC [mmol/m3]\")\n",
    "    axes[A,0].set_xlim(bgcdata_dict[model].dissic.y.max(),bgcdata_dict[model].dissic.y.min())\n",
    "    axes[A,0].set_ylim(6000,0)\n",
    "    axes[A,0].set_xlabel(\"\")  \n",
    "    axes[A,0].set_ylabel(\"\")  \n",
    "    \n",
    "    axes[A,1].set_title(model+\" DIC [mmol/m3]\")\n",
    "    axes[A,1].set_ylim(6000,0)\n",
    "    axes[A,1].set_xlabel(\"\")  \n",
    "    axes[A,1].set_ylabel(\"\") \n",
    "    A +=1  \n",
    "plt.subplots_adjust(hspace=0.3)"
   ]
  },
  {
   "cell_type": "code",
   "execution_count": null,
   "metadata": {},
   "outputs": [],
   "source": [
    "fig, axes = plt.subplots(ncols=2, nrows=4,figsize=[15, 10])\n",
    "A = 0\n",
    "for model in bgcdata_dict.keys():\n",
    "    if A==2:\n",
    "        # This model is half Arctic!!\n",
    "        xlocp=140\n",
    "        xloca=275\n",
    "    else:\n",
    "        xlocp=125\n",
    "        xloca=255\n",
    "    (bgcdata_dict[model].cpre.isel(time=slice(-13,-1)).mean('time').isel(x=xloca)*1e3).plot(ax=axes[A,0],levels=np.arange(2000,2420,20),cmap='viridis',extend=\"both\")\n",
    "    (bgcdata_dict[model].cpre.isel(time=slice(-13,-1)).mean('time').isel(x=xlocp)*1e3).plot(ax=axes[A,1],levels=np.arange(2000,2420,20),cmap='viridis',extend=\"both\")\n",
    "    axes[A,0].set_title(model+\" CPRE [mmol/m3]\")\n",
    "    axes[A,0].set_xlim(bgcdata_dict[model].dissic.y.max(),bgcdata_dict[model].dissic.y.min())\n",
    "    axes[A,0].set_ylim(6000,0)\n",
    "    axes[A,0].set_xlabel(\"\")  \n",
    "    axes[A,0].set_ylabel(\"\")  \n",
    "    \n",
    "    axes[A,1].set_title(model+\" CPRE [mmol/m3]\")\n",
    "    axes[A,1].set_ylim(6000,0)\n",
    "    axes[A,1].set_xlabel(\"\")  \n",
    "    axes[A,1].set_ylabel(\"\") \n",
    "    A +=1  \n",
    "plt.subplots_adjust(hspace=0.3)"
   ]
  },
  {
   "cell_type": "code",
   "execution_count": null,
   "metadata": {},
   "outputs": [],
   "source": [
    "fig, axes = plt.subplots(ncols=2, nrows=4,figsize=[15, 10])\n",
    "A = 0\n",
    "for model in bgcdata_dict.keys():\n",
    "    if A==2:\n",
    "        # This model is half Arctic!!\n",
    "        xlocp=140\n",
    "        xloca=275\n",
    "    else:\n",
    "        xlocp=125\n",
    "        xloca=255\n",
    "    (bgcdata_dict[model].creg.isel(time=slice(-13,-1)).mean('time').isel(x=xloca)*1e3).plot(ax=axes[A,0],levels=np.arange(0,320,20),cmap='viridis',extend=\"both\")\n",
    "    (bgcdata_dict[model].creg.isel(time=slice(-13,-1)).mean('time').isel(x=xlocp)*1e3).plot(ax=axes[A,1],levels=np.arange(0,320,20),cmap='viridis',extend=\"both\")\n",
    "    axes[A,0].set_title(model+\" CREG [mmol/m3]\")\n",
    "    axes[A,0].set_xlim(bgcdata_dict[model].dissic.y.max(),bgcdata_dict[model].dissic.y.min())\n",
    "    axes[A,0].set_ylim(6000,0)\n",
    "    axes[A,0].set_xlabel(\"\")  \n",
    "    axes[A,0].set_ylabel(\"\")  \n",
    "    \n",
    "    axes[A,1].set_title(model+\" CREG [mmol/m3]\")\n",
    "    axes[A,1].set_ylim(6000,0)\n",
    "    axes[A,1].set_xlabel(\"\")  \n",
    "    axes[A,1].set_ylabel(\"\") \n",
    "    A +=1  \n",
    "plt.subplots_adjust(hspace=0.3)"
   ]
  },
  {
   "cell_type": "markdown",
   "metadata": {},
   "source": [
    "Compute linear trend in Cpre and Creg"
   ]
  },
  {
   "cell_type": "code",
   "execution_count": null,
   "metadata": {},
   "outputs": [],
   "source": [
    "fig, axes = plt.subplots(ncols=2, nrows=4,figsize=[10, 5])\n",
    "A = 0\n",
    "for model in bgcdata_dict.keys():\n",
    "    if A==2:\n",
    "        # This model is half Arctic!!\n",
    "        xlocp=140\n",
    "        xloca=290\n",
    "    else:\n",
    "        xlocp=125\n",
    "        xloca=255\n",
    "    ds = dsC['dissic']\n",
    "    DICstore = bgcdata_dict[model].creg.chunk({'time': -1})\n",
    "    aslope = compute_slope(DICstore.isel(x=xloca))\n",
    "    aslope = aslope.compute()\n",
    "    aslope = aslope.mean('member_id')*12 # in mol/m^3/year\n",
    "    \n",
    "    pslope = compute_slope(DICstore.isel(x=xlocp))\n",
    "    pslope = pslope.compute()\n",
    "    pslope = pslope.mean('member_id')*12 # in mol/m^3/year\n",
    "    \n",
    "    aslope.plot(ax=axes[A,0],cmap='RdBu',extend=\"both\")\n",
    "    pslope.plot(ax=axes[A,1],cmap='RdBu',extend=\"both\")\n",
    "\n",
    "    axes[A,0].set_title(model+\" CREG Trend [mmol/m3/yr]\")\n",
    "    axes[A,0].set_xlim(bgcdata_dict[model].dissic.y.max(),bgcdata_dict[model].dissic.y.min())\n",
    "    axes[A,0].set_ylim(6000,0)\n",
    "    axes[A,0].set_xlabel(\"\")  \n",
    "    axes[A,0].set_ylabel(\"\")  \n",
    "    \n",
    "    axes[A,1].set_title(model+\" CREG Trend [mmol/m3/yr]\")\n",
    "    axes[A,1].set_ylim(6000,0)\n",
    "    axes[A,1].set_xlabel(\"\")  \n",
    "    axes[A,1].set_ylabel(\"\") \n",
    "    A +=1  \n",
    "plt.subplots_adjust(hspace=0.3)"
   ]
  },
  {
   "cell_type": "code",
   "execution_count": null,
   "metadata": {},
   "outputs": [],
   "source": [
    "fig, axes = plt.subplots(ncols=2, nrows=4,figsize=[10, 5])\n",
    "A = 0\n",
    "for model in bgcdata_dict.keys():\n",
    "    if A==2:\n",
    "        # This model is half Arctic!!\n",
    "        xlocp=140\n",
    "        xloca=290\n",
    "    else:\n",
    "        xlocp=125\n",
    "        xloca=255\n",
    "    ds = dsC['dissic']\n",
    "    DICstore = bgcdata_dict[model].cpre.chunk({'time': -1})\n",
    "    aslope = compute_slope(DICstore.isel(x=xloca))\n",
    "    aslope = aslope.compute()\n",
    "    aslope = aslope.mean('member_id')*12 # in mol/m^3/year\n",
    "    \n",
    "    pslope = compute_slope(DICstore.isel(x=xlocp))\n",
    "    pslope = pslope.compute()\n",
    "    pslope = pslope.mean('member_id')*12 # in mol/m^3/year\n",
    "    \n",
    "    aslope.plot(ax=axes[A,0],cmap='RdBu',extend=\"both\")\n",
    "    pslope.plot(ax=axes[A,1],cmap='RdBu',extend=\"both\")\n",
    "\n",
    "    axes[A,0].set_title(model+\" CPRE Trend [mmol/m3/yr]\")\n",
    "    axes[A,0].set_xlim(bgcdata_dict[model].dissic.y.max(),bgcdata_dict[model].dissic.y.min())\n",
    "    axes[A,0].set_ylim(6000,0)\n",
    "    axes[A,0].set_xlabel(\"\")  \n",
    "    axes[A,0].set_ylabel(\"\")  \n",
    "    \n",
    "    axes[A,1].set_title(model+\" CPRE Trend [mmol/m3/yr]\")\n",
    "    axes[A,1].set_ylim(6000,0)\n",
    "    axes[A,1].set_xlabel(\"\")  \n",
    "    axes[A,1].set_ylabel(\"\") \n",
    "    A +=1  \n",
    "plt.subplots_adjust(hspace=0.3)"
   ]
  }
 ],
 "metadata": {
  "kernelspec": {
   "display_name": "Python 3",
   "language": "python",
   "name": "python3"
  },
  "language_info": {
   "codemirror_mode": {
    "name": "ipython",
    "version": 3
   },
   "file_extension": ".py",
   "mimetype": "text/x-python",
   "name": "python",
   "nbconvert_exporter": "python",
   "pygments_lexer": "ipython3",
   "version": "3.7.3"
  }
 },
 "nbformat": 4,
 "nbformat_minor": 4
}
