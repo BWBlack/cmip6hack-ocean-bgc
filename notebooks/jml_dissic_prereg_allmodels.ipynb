{
 "cells": [
  {
   "cell_type": "markdown",
   "metadata": {},
   "source": [
    "# Ocean interior carbon storage: Changes in preformed vs regenerated carbon"
   ]
  },
  {
   "cell_type": "code",
   "execution_count": 23,
   "metadata": {},
   "outputs": [
    {
     "data": {
      "text/html": [
       "<table style=\"border: 2px solid white;\">\n",
       "<tr>\n",
       "<td style=\"vertical-align: top; border: 0px solid white\">\n",
       "<h3 style=\"text-align: left;\">Client</h3>\n",
       "<ul style=\"text-align: left; list-style: none; margin: 0; padding: 0;\">\n",
       "  <li><b>Scheduler: </b>tcp://10.32.15.116:35423</li>\n",
       "  <li><b>Dashboard: </b><a href='/user/0000-0002-2993-7484/proxy/8787/status' target='_blank'>/user/0000-0002-2993-7484/proxy/8787/status</a>\n",
       "</ul>\n",
       "</td>\n",
       "<td style=\"vertical-align: top; border: 0px solid white\">\n",
       "<h3 style=\"text-align: left;\">Cluster</h3>\n",
       "<ul style=\"text-align: left; list-style:none; margin: 0; padding: 0;\">\n",
       "  <li><b>Workers: </b>1</li>\n",
       "  <li><b>Cores: </b>2</li>\n",
       "  <li><b>Memory: </b>11.50 GB</li>\n",
       "</ul>\n",
       "</td>\n",
       "</tr>\n",
       "</table>"
      ],
      "text/plain": [
       "<Client: 'tcp://10.32.15.116:35423' processes=1 threads=2, memory=11.50 GB>"
      ]
     },
     "execution_count": 23,
     "metadata": {},
     "output_type": "execute_result"
    }
   ],
   "source": [
    "from dask.distributed import Client\n",
    "\n",
    "client = Client(\"tcp://10.32.15.116:35423\")\n",
    "client"
   ]
  },
  {
   "cell_type": "code",
   "execution_count": 1,
   "metadata": {},
   "outputs": [
    {
     "name": "stderr",
     "output_type": "stream",
     "text": [
      "/srv/conda/envs/notebook/lib/python3.7/site-packages/intake/source/discovery.py:136: FutureWarning: The drivers ['stac-catalog', 'stac-collection', 'stac-item'] do not specify entry_points and were only discovered via a package scan. This may break in a future release of intake. The packages should be updated.\n",
      "  FutureWarning)\n"
     ]
    }
   ],
   "source": [
    "%matplotlib inline\n",
    "\n",
    "import xarray as xr\n",
    "import intake\n",
    "import numpy as np\n",
    "from cmip6_preprocessing.preprocessing import read_data\n",
    "import warnings\n",
    "\n",
    "# util.py is in the local directory\n",
    "# it contains code that is common across project notebooks\n",
    "# or routines that are too extensive and might otherwise clutter\n",
    "# the notebook design\n",
    "import util "
   ]
  },
  {
   "cell_type": "code",
   "execution_count": 2,
   "metadata": {},
   "outputs": [],
   "source": [
    "# Functions\n",
    "def calc_o2sat_gsw(practical_salinity,potential_temperature,latitude,longitude,pressure,dask_permission='allowed'):\n",
    "    import gsw\n",
    "    \n",
    "    #Calculate Absolute Salinity\n",
    "    gsw_as=xr.apply_ufunc(gsw.SA_from_SP,practical_salinity,pressure,longitude,latitude,dask=dask_permission)\n",
    "    \n",
    "    #Calculate Conservative Temperature\n",
    "    gsw_ct=xr.apply_ufunc(gsw.CT_from_t,gsw_as,potential_temperature,pressure,dask=dask_permission)\n",
    "\n",
    "    #Calculate Oxygen Saturation\n",
    "    gsw_o2sat=xr.apply_ufunc(gsw.O2sol,gsw_as,gsw_ct,pressure,longitude,latitude,dask=dask_permission)*1.0245e-3 # Convert umol/kg to mol/m3\n",
    "\n",
    "    return gsw_o2sat"
   ]
  },
  {
   "cell_type": "code",
   "execution_count": 3,
   "metadata": {},
   "outputs": [],
   "source": [
    "if util.is_ncar_host():\n",
    "    col = intake.open_esm_datastore(\"../catalogs/glade-cmip6.json\")\n",
    "else:\n",
    "    col = intake.open_esm_datastore(\"../catalogs/pangeo-cmip6.json\")"
   ]
  },
  {
   "cell_type": "code",
   "execution_count": 8,
   "metadata": {},
   "outputs": [
    {
     "name": "stdout",
     "output_type": "stream",
     "text": [
      "{'experiment_id': {'count': 29,\n",
      "                   'values': ['ssp370', 'esm-ssp585', '1pctCO2-bgc', 'hist-bgc',\n",
      "                              '1pctCO2', 'abrupt-4xCO2', 'historical',\n",
      "                              'piControl', 'amip', 'esm-hist', 'esm-piControl',\n",
      "                              'hist-GHG', 'hist-aer', 'hist-nat', 'dcppA-assim',\n",
      "                              'dcppA-hindcast', 'dcppC-hindcast-noAgung',\n",
      "                              'dcppC-hindcast-noElChichon',\n",
      "                              'dcppC-hindcast-noPinatubo', 'highresSST-present',\n",
      "                              'control-1950', 'hist-1950', 'deforest-globe',\n",
      "                              'esm-ssp585-ssp126Lu', 'omip1', 'lgm', 'ssp126',\n",
      "                              'ssp245', 'ssp585']},\n",
      " 'source_id': {'count': 48,\n",
      "               'values': ['BCC-ESM1', 'BCC-CSM2-MR', 'CanESM5', 'CNRM-ESM2-1',\n",
      "                          'UKESM1-0-LL', 'GISS-E2-1-G', 'CESM2', 'GFDL-ESM4',\n",
      "                          'AWI-CM-1-1-MR', 'CAMS-CSM1-0', 'FGOALS-f3-L',\n",
      "                          'FGOALS-g3', 'CNRM-CM6-1', 'E3SM-1-0', 'EC-Earth3-LR',\n",
      "                          'EC-Earth3-Veg', 'EC-Earth3', 'FIO-ESM-2-0',\n",
      "                          'IPSL-CM6A-LR', 'MIROC-ES2L', 'MIROC6',\n",
      "                          'HadGEM3-GC31-LL', 'HadGEM3-GC31-MM', 'MRI-ESM2-0',\n",
      "                          'GISS-E2-1-G-CC', 'GISS-E2-1-H', 'CESM2-WACCM',\n",
      "                          'NorCPM1', 'GFDL-AM4', 'GFDL-CM4', 'NESM3',\n",
      "                          'SAM0-UNICON', 'MCM-UA-1-0', 'CMCC-CM2-HR4',\n",
      "                          'CMCC-CM2-VHR4', 'CNRM-CM6-1-HR', 'ECMWF-IFS-HR',\n",
      "                          'ECMWF-IFS-LR', 'IPSL-CM6A-ATM-HR', 'NICAM16-7S',\n",
      "                          'NICAM16-8S', 'NICAM16-9S', 'HadGEM3-GC31-HM',\n",
      "                          'HadGEM3-GC31-LM', 'MRI-AGCM3-2-H', 'MRI-AGCM3-2-S',\n",
      "                          'GFDL-CM4C192', 'MPI-ESM1-2-HR']},\n",
      " 'table_id': {'count': 23,\n",
      "              'values': ['Amon', 'Lmon', 'Oyr', 'Omon', 'SImon', 'day', '3hr',\n",
      "                         '6hrLev', 'LImon', 'Aclim', 'Ofx', 'fx', 'Emon',\n",
      "                         '6hrPlev', 'Oclim', 'SIclim', 'Eclim', 'Odec',\n",
      "                         'AERmon', 'ImonGre', '6hrPlevPt', 'CF3hr', 'E3hr']}}\n"
     ]
    }
   ],
   "source": [
    "import pprint \n",
    "uni_dict = col.unique(['source_id', 'experiment_id', 'table_id'])\n",
    "#pprint.pprint(uni_dict, compact=True)"
   ]
  },
  {
   "cell_type": "code",
   "execution_count": 28,
   "metadata": {},
   "outputs": [
    {
     "data": {
      "text/plain": [
       "['MIROC-ES2L', 'IPSL-CM6A-LR', 'CanESM5']"
      ]
     },
     "execution_count": 28,
     "metadata": {},
     "output_type": "execute_result"
    }
   ],
   "source": [
    "models = set(uni_dict['source_id']['values']) # all the models\n",
    "\n",
    "for experiment_id in ['historical']:\n",
    "    query = dict(experiment_id=experiment_id, \n",
    "                 grid_label='gn',\n",
    "                 table_id='Oyr',\n",
    "                 variable_id=['o2','thetao','so','dissic'])  \n",
    "    cat = col.search(**query)\n",
    "    models = models.intersection({model for model in cat.df.source_id.unique().tolist()})\n",
    "\n",
    "# for oxygen, ensure the CESM2 models are not included (oxygen was erroneously submitted to the archive)\n",
    "# UKESM has an issue with the attributes\n",
    "models = models - {'CESM2-WACCM', 'CESM2'}\n",
    "models = list(models)\n",
    "models"
   ]
  },
  {
   "cell_type": "code",
   "execution_count": 29,
   "metadata": {},
   "outputs": [
    {
     "name": "stdout",
     "output_type": "stream",
     "text": [
      "--> The keys in the returned dictionary of datasets are constructed as follows:\n",
      "\t'activity_id.institution_id.source_id.experiment_id.table_id.grid_label'\n",
      "\n",
      "--> There will be 3 group(s)\n",
      "--> The keys in the returned dictionary of datasets are constructed as follows:\n",
      "\t'activity_id.institution_id.source_id.experiment_id.table_id.grid_label'\n",
      "\n",
      "--> There will be 2 group(s)\n",
      "--> The keys in the returned dictionary of datasets are constructed as follows:\n",
      "\t'activity_id.institution_id.source_id.experiment_id.table_id.grid_label'\n",
      "\n",
      "--> There will be 0 group(s)\n",
      "--> The keys in the returned dictionary of datasets are constructed as follows:\n",
      "\t'activity_id.institution_id.source_id.experiment_id.table_id.grid_label'\n",
      "\n",
      "--> There will be 0 group(s)\n"
     ]
    }
   ],
   "source": [
    "# read all data with volume and oxygen\n",
    "with warnings.catch_warnings(): # these lines just make sure that the warnings dont clutter your notebook\n",
    "    warnings.simplefilter(\"ignore\")\n",
    "    data_dict_thk = read_data(col,\n",
    "                    experiment_id=['historical'],\n",
    "                    grid_label='gn',\n",
    "                    variable_id=['o2','dissic','thetao','so'],\n",
    "                    table_id = ['Oyr'],\n",
    "                    source_id = models,\n",
    "                    #member_id = 'r1i1p1f1', # so that this runs faster for testing\n",
    "                    required_variable_id = ['o2','dissic','thetao','so']\n",
    "                    )"
   ]
  },
  {
   "cell_type": "code",
   "execution_count": 30,
   "metadata": {},
   "outputs": [
    {
     "data": {
      "text/plain": [
       "{}"
      ]
     },
     "execution_count": 30,
     "metadata": {},
     "output_type": "execute_result"
    }
   ],
   "source": [
    "data_dict_thk"
   ]
  },
  {
   "cell_type": "code",
   "execution_count": null,
   "metadata": {},
   "outputs": [],
   "source": []
  }
 ],
 "metadata": {
  "kernelspec": {
   "display_name": "Python 3",
   "language": "python",
   "name": "python3"
  },
  "language_info": {
   "codemirror_mode": {
    "name": "ipython",
    "version": 3
   },
   "file_extension": ".py",
   "mimetype": "text/x-python",
   "name": "python",
   "nbconvert_exporter": "python",
   "pygments_lexer": "ipython3",
   "version": "3.7.3"
  }
 },
 "nbformat": 4,
 "nbformat_minor": 4
}
