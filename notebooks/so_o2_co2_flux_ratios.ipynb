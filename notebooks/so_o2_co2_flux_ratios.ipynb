{
 "cells": [
  {
   "cell_type": "markdown",
   "metadata": {},
   "source": [
    "# Copied Matt's Hello World, adapting for Omon O2 and CO2 fluxes\n",
    "\n",
    "* step1"
   ]
  },
  {
   "cell_type": "code",
   "execution_count": 3,
   "metadata": {},
   "outputs": [],
   "source": [
    "%matplotlib inline\n",
    "\n",
    "import xarray as xr\n",
    "import intake\n",
    "\n",
    "# util.py is in the local directory\n",
    "# it contains code that is common across project notebooks\n",
    "# or routines that are too extensive and might otherwise clutter\n",
    "# the notebook design\n",
    "import util "
   ]
  },
  {
   "cell_type": "markdown",
   "metadata": {},
   "source": [
    "## Use `intake-esm` to access all available model output\n",
    "\n",
    "[Intake-esm](https://intake-esm.readthedocs.io) is a data cataloging utility that facilitates access to CMIP data. It's pretty awesome.\n",
    "\n",
    "An `intake-esm` collection object establishes a link to a database that contains file locations and associated metadata (i.e. which experiement, model, etc. thet come from). \n",
    "\n",
    "### Opening a collection\n",
    "First step is to open a collection by pointing to the collection definition file, which is a JSON file that conforms to the [ESM Collection Specification](https://github.com/NCAR/esm-collection-spec). \n",
    "\n",
    "The collection JSON files are stored locally in this repository for purposes of reproducibility---and because Cheyenne compute nodes don't have Internet access. \n",
    "\n",
    "The primary source for these files is the [intake-esm-datastore](https://github.com/NCAR/intake-esm-datastore) repository. Any changes made to these files should be pulled from that repo. For instance, the Pangeo cloud collection is available [here](https://raw.githubusercontent.com/NCAR/intake-esm-datastore/master/catalogs/pangeo-cmip6.json)."
   ]
  },
  {
   "cell_type": "code",
   "execution_count": 4,
   "metadata": {},
   "outputs": [
    {
     "data": {
      "text/plain": [
       "glade-cmip6-ESM Collection with 698724 entries:\n",
       "\t> 13 activity_id(s)\n",
       "\n",
       "\t> 24 institution_id(s)\n",
       "\n",
       "\t> 47 source_id(s)\n",
       "\n",
       "\t> 68 experiment_id(s)\n",
       "\n",
       "\t> 162 member_id(s)\n",
       "\n",
       "\t> 35 table_id(s)\n",
       "\n",
       "\t> 1027 variable_id(s)\n",
       "\n",
       "\t> 12 grid_label(s)\n",
       "\n",
       "\t> 59 dcpp_init_year(s)\n",
       "\n",
       "\t> 248 version(s)\n",
       "\n",
       "\t> 6813 time_range(s)\n",
       "\n",
       "\t> 698724 path(s)"
      ]
     },
     "execution_count": 4,
     "metadata": {},
     "output_type": "execute_result"
    }
   ],
   "source": [
    "if util.is_ncar_host():\n",
    "    col = intake.open_esm_datastore(\"../cmip6hack-ocean-bgc/catalogs/glade-cmip6.json\")\n",
    "else:\n",
    "    col = intake.open_esm_datastore(\"../cmip6hack-ocean-bgc/catalogs/pangeo-cmip6.json\")\n",
    "col"
   ]
  },
  {
   "cell_type": "markdown",
   "metadata": {},
   "source": [
    "`intake-esm` is build on top of [pandas](https://pandas.pydata.org/pandas-docs/stable). It is possible to view the `pandas.DataFrame` as follows."
   ]
  },
  {
   "cell_type": "code",
   "execution_count": 5,
   "metadata": {},
   "outputs": [
    {
     "data": {
      "text/html": [
       "<div>\n",
       "<style scoped>\n",
       "    .dataframe tbody tr th:only-of-type {\n",
       "        vertical-align: middle;\n",
       "    }\n",
       "\n",
       "    .dataframe tbody tr th {\n",
       "        vertical-align: top;\n",
       "    }\n",
       "\n",
       "    .dataframe thead th {\n",
       "        text-align: right;\n",
       "    }\n",
       "</style>\n",
       "<table border=\"1\" class=\"dataframe\">\n",
       "  <thead>\n",
       "    <tr style=\"text-align: right;\">\n",
       "      <th></th>\n",
       "      <th>activity_id</th>\n",
       "      <th>institution_id</th>\n",
       "      <th>source_id</th>\n",
       "      <th>experiment_id</th>\n",
       "      <th>member_id</th>\n",
       "      <th>table_id</th>\n",
       "      <th>variable_id</th>\n",
       "      <th>grid_label</th>\n",
       "      <th>dcpp_init_year</th>\n",
       "      <th>version</th>\n",
       "      <th>time_range</th>\n",
       "      <th>path</th>\n",
       "    </tr>\n",
       "  </thead>\n",
       "  <tbody>\n",
       "    <tr>\n",
       "      <td>0</td>\n",
       "      <td>AerChemMIP</td>\n",
       "      <td>BCC</td>\n",
       "      <td>BCC-ESM1</td>\n",
       "      <td>ssp370</td>\n",
       "      <td>r2i1p1f1</td>\n",
       "      <td>day</td>\n",
       "      <td>pr</td>\n",
       "      <td>gn</td>\n",
       "      <td>NaN</td>\n",
       "      <td>v20190702</td>\n",
       "      <td>20150101-20551231</td>\n",
       "      <td>/glade/collections/cmip/CMIP6/AerChemMIP/BCC/B...</td>\n",
       "    </tr>\n",
       "    <tr>\n",
       "      <td>1</td>\n",
       "      <td>AerChemMIP</td>\n",
       "      <td>BCC</td>\n",
       "      <td>BCC-ESM1</td>\n",
       "      <td>ssp370</td>\n",
       "      <td>r2i1p1f1</td>\n",
       "      <td>Amon</td>\n",
       "      <td>hfls</td>\n",
       "      <td>gn</td>\n",
       "      <td>NaN</td>\n",
       "      <td>v20190624</td>\n",
       "      <td>201501-205512</td>\n",
       "      <td>/glade/collections/cmip/CMIP6/AerChemMIP/BCC/B...</td>\n",
       "    </tr>\n",
       "    <tr>\n",
       "      <td>2</td>\n",
       "      <td>AerChemMIP</td>\n",
       "      <td>BCC</td>\n",
       "      <td>BCC-ESM1</td>\n",
       "      <td>ssp370</td>\n",
       "      <td>r2i1p1f1</td>\n",
       "      <td>Amon</td>\n",
       "      <td>prsn</td>\n",
       "      <td>gn</td>\n",
       "      <td>NaN</td>\n",
       "      <td>v20190624</td>\n",
       "      <td>201501-205512</td>\n",
       "      <td>/glade/collections/cmip/CMIP6/AerChemMIP/BCC/B...</td>\n",
       "    </tr>\n",
       "    <tr>\n",
       "      <td>3</td>\n",
       "      <td>AerChemMIP</td>\n",
       "      <td>BCC</td>\n",
       "      <td>BCC-ESM1</td>\n",
       "      <td>ssp370</td>\n",
       "      <td>r2i1p1f1</td>\n",
       "      <td>Amon</td>\n",
       "      <td>va</td>\n",
       "      <td>gn</td>\n",
       "      <td>NaN</td>\n",
       "      <td>v20190624</td>\n",
       "      <td>201501-205512</td>\n",
       "      <td>/glade/collections/cmip/CMIP6/AerChemMIP/BCC/B...</td>\n",
       "    </tr>\n",
       "    <tr>\n",
       "      <td>4</td>\n",
       "      <td>AerChemMIP</td>\n",
       "      <td>BCC</td>\n",
       "      <td>BCC-ESM1</td>\n",
       "      <td>ssp370</td>\n",
       "      <td>r2i1p1f1</td>\n",
       "      <td>Amon</td>\n",
       "      <td>tas</td>\n",
       "      <td>gn</td>\n",
       "      <td>NaN</td>\n",
       "      <td>v20190624</td>\n",
       "      <td>201501-205512</td>\n",
       "      <td>/glade/collections/cmip/CMIP6/AerChemMIP/BCC/B...</td>\n",
       "    </tr>\n",
       "  </tbody>\n",
       "</table>\n",
       "</div>"
      ],
      "text/plain": [
       "  activity_id institution_id source_id experiment_id member_id table_id  \\\n",
       "0  AerChemMIP            BCC  BCC-ESM1        ssp370  r2i1p1f1      day   \n",
       "1  AerChemMIP            BCC  BCC-ESM1        ssp370  r2i1p1f1     Amon   \n",
       "2  AerChemMIP            BCC  BCC-ESM1        ssp370  r2i1p1f1     Amon   \n",
       "3  AerChemMIP            BCC  BCC-ESM1        ssp370  r2i1p1f1     Amon   \n",
       "4  AerChemMIP            BCC  BCC-ESM1        ssp370  r2i1p1f1     Amon   \n",
       "\n",
       "  variable_id grid_label  dcpp_init_year    version         time_range  \\\n",
       "0          pr         gn             NaN  v20190702  20150101-20551231   \n",
       "1        hfls         gn             NaN  v20190624      201501-205512   \n",
       "2        prsn         gn             NaN  v20190624      201501-205512   \n",
       "3          va         gn             NaN  v20190624      201501-205512   \n",
       "4         tas         gn             NaN  v20190624      201501-205512   \n",
       "\n",
       "                                                path  \n",
       "0  /glade/collections/cmip/CMIP6/AerChemMIP/BCC/B...  \n",
       "1  /glade/collections/cmip/CMIP6/AerChemMIP/BCC/B...  \n",
       "2  /glade/collections/cmip/CMIP6/AerChemMIP/BCC/B...  \n",
       "3  /glade/collections/cmip/CMIP6/AerChemMIP/BCC/B...  \n",
       "4  /glade/collections/cmip/CMIP6/AerChemMIP/BCC/B...  "
      ]
     },
     "execution_count": 5,
     "metadata": {},
     "output_type": "execute_result"
    }
   ],
   "source": [
    "col.df.head()"
   ]
  },
  {
   "cell_type": "markdown",
   "metadata": {},
   "source": [
    "It is possible to interact with the `DataFrame`; for instance, we can see what the \"attributes\" of the datasets are by printing the columns."
   ]
  },
  {
   "cell_type": "code",
   "execution_count": 6,
   "metadata": {},
   "outputs": [
    {
     "data": {
      "text/plain": [
       "Index(['activity_id', 'institution_id', 'source_id', 'experiment_id',\n",
       "       'member_id', 'table_id', 'variable_id', 'grid_label', 'dcpp_init_year',\n",
       "       'version', 'time_range', 'path'],\n",
       "      dtype='object')"
      ]
     },
     "execution_count": 6,
     "metadata": {},
     "output_type": "execute_result"
    }
   ],
   "source": [
    "col.df.columns"
   ]
  },
  {
   "cell_type": "markdown",
   "metadata": {},
   "source": [
    "### Search and discovery\n",
    "\n",
    "#### Find unique entries\n",
    "Query the data to see what models (\"source_id\"), experiments (\"experiment_id\") and temporal frequencies (\"table_id\") are available."
   ]
  },
  {
   "cell_type": "code",
   "execution_count": 7,
   "metadata": {},
   "outputs": [
    {
     "name": "stdout",
     "output_type": "stream",
     "text": [
      "{'experiment_id': {'count': 68,\n",
      "                   'values': ['ssp370', 'histSST-piNTCF', 'histSST',\n",
      "                              'histSST-1950HC', 'hist-1950HC', 'hist-piNTCF',\n",
      "                              'piClim-NTCF', 'ssp370SST-lowNTCF',\n",
      "                              'ssp370-lowNTCF', 'ssp370SST', '1pctCO2-bgc',\n",
      "                              'hist-bgc', 'esm-ssp585', 'amip-future4K',\n",
      "                              'amip-m4K', 'a4SST', 'aqua-p4K', 'piSST',\n",
      "                              'amip-4xCO2', 'a4SSTice', 'amip-p4K',\n",
      "                              'aqua-control', 'aqua-4xCO2', 'abrupt-4xCO2',\n",
      "                              'historical', 'piControl', 'amip', '1pctCO2',\n",
      "                              'esm-hist', 'esm-piControl', 'ssp245', 'ssp585',\n",
      "                              'ssp126', 'hist-GHG', 'hist-aer',\n",
      "                              'dcppA-hindcast', 'dcppC-hindcast-noPinatubo',\n",
      "                              'dcppC-hindcast-noElChichon', 'dcppA-assim',\n",
      "                              'dcppC-hindcast-noAgung', 'hist-1950',\n",
      "                              'highresSST-present', 'control-1950',\n",
      "                              'land-hist-princeton', 'land-hist-cruNcep',\n",
      "                              'land-hist', 'deforest-globe',\n",
      "                              'esm-ssp585-ssp126Lu', 'land-cCO2', 'hist-noLu',\n",
      "                              'land-crop-noFert', 'ssp370-ssp126Lu',\n",
      "                              'ssp126-ssp370Lu', 'land-noLu', 'land-noFire',\n",
      "                              'land-hist-altStartYear', 'land-cClim', 'omip1',\n",
      "                              'pdSST-piAntSIC', 'pdSST-futAntSIC',\n",
      "                              'pdSST-pdSIC', 'pdSST-piArcSIC',\n",
      "                              'pdSST-futArcSIC', 'lgm', 'ssp119', 'ssp434',\n",
      "                              'ssp460', 'ssp534-over']},\n",
      " 'source_id': {'count': 47,\n",
      "               'values': ['BCC-ESM1', 'CESM2-WACCM', 'CESM2', 'CNRM-ESM2-1',\n",
      "                          'BCC-CSM2-MR', 'UKESM1-0-LL', 'GFDL-ESM4',\n",
      "                          'GISS-E2-1-G', 'CanESM5', 'CNRM-CM6-1', 'FGOALS-f3-L',\n",
      "                          'FGOALS-g3', 'SAM0-UNICON', 'HadGEM3-GC31-LL',\n",
      "                          'HadGEM3-GC31-MM', 'AWI-CM-1-1-MR', 'GFDL-AM4',\n",
      "                          'GFDL-CM4', 'GISS-E2-1-H', 'E3SM-1-0', 'CAMS-CSM1-0',\n",
      "                          'MCM-UA-1-0', 'EC-Earth3-LR', 'EC-Earth3',\n",
      "                          'EC-Earth3-Veg', 'MRI-ESM2-0', 'NESM3', 'MIROC-ES2L',\n",
      "                          'MIROC6', 'IPSL-CM6A-LR', 'NorCPM1', 'NorESM2-LM',\n",
      "                          'FIO-ESM-2-0', 'CNRM-CM6-1-HR', 'FGOALS-f3-H',\n",
      "                          'HadGEM3-GC31-HM', 'HadGEM3-GC31-LM', 'GFDL-CM4C192',\n",
      "                          'ECMWF-IFS-LR', 'ECMWF-IFS-HR', 'CMCC-CM2-VHR4',\n",
      "                          'CMCC-CM2-HR4', 'NICAM16-7S', 'NICAM16-8S',\n",
      "                          'NICAM16-9S', 'IPSL-CM6A-ATM-HR', 'MPI-ESM1-2-HR']},\n",
      " 'table_id': {'count': 35,\n",
      "              'values': ['day', 'Amon', 'AERmonZ', 'CFmon', 'EdayZ', 'Eday',\n",
      "                         'CFday', 'EmonZ', 'AERday', 'Emon', 'fx', 'Lmon',\n",
      "                         'AERmon', 'Ofx', 'Omon', 'SImon', 'Oyr', 'AERhr',\n",
      "                         'Eyr', 'LImon', 'SIday', '6hrPlev', 'CFsubhr',\n",
      "                         '6hrLev', 'Oday', 'ImonGre', 'ImonAnt', 'Efx',\n",
      "                         'IfxGre', '3hr', '6hrPlevPt', 'E1hr', 'E3hr', 'Oclim',\n",
      "                         'CF3hr']}}\n"
     ]
    }
   ],
   "source": [
    "import pprint \n",
    "uni_dict = col.unique(['source_id', 'experiment_id', 'table_id'])\n",
    "pprint.pprint(uni_dict, compact=True)"
   ]
  },
  {
   "cell_type": "markdown",
   "metadata": {},
   "source": [
    "#### Searching for specific datasets\n",
    "\n",
    "Find all the O2 and CO2 flux data at monthly frequency from the ocean for the `historical` and `hist-bgc` experiments. Note: NorESM2 files are 10 years each, so there are many of these."
   ]
  },
  {
   "cell_type": "code",
   "execution_count": 9,
   "metadata": {},
   "outputs": [
    {
     "data": {
      "text/html": [
       "<div>\n",
       "<style scoped>\n",
       "    .dataframe tbody tr th:only-of-type {\n",
       "        vertical-align: middle;\n",
       "    }\n",
       "\n",
       "    .dataframe tbody tr th {\n",
       "        vertical-align: top;\n",
       "    }\n",
       "\n",
       "    .dataframe thead th {\n",
       "        text-align: right;\n",
       "    }\n",
       "</style>\n",
       "<table border=\"1\" class=\"dataframe\">\n",
       "  <thead>\n",
       "    <tr style=\"text-align: right;\">\n",
       "      <th></th>\n",
       "      <th>activity_id</th>\n",
       "      <th>institution_id</th>\n",
       "      <th>source_id</th>\n",
       "      <th>experiment_id</th>\n",
       "      <th>member_id</th>\n",
       "      <th>table_id</th>\n",
       "      <th>variable_id</th>\n",
       "      <th>grid_label</th>\n",
       "      <th>dcpp_init_year</th>\n",
       "      <th>version</th>\n",
       "      <th>time_range</th>\n",
       "      <th>path</th>\n",
       "    </tr>\n",
       "  </thead>\n",
       "  <tbody>\n",
       "    <tr>\n",
       "      <td>11444</td>\n",
       "      <td>C4MIP</td>\n",
       "      <td>CNRM-CERFACS</td>\n",
       "      <td>CNRM-ESM2-1</td>\n",
       "      <td>hist-bgc</td>\n",
       "      <td>r1i1p1f2</td>\n",
       "      <td>Omon</td>\n",
       "      <td>fgo2</td>\n",
       "      <td>gn</td>\n",
       "      <td>NaN</td>\n",
       "      <td>v20190711</td>\n",
       "      <td>185001-201412</td>\n",
       "      <td>/glade/collections/cmip/CMIP6/C4MIP/CNRM-CERFA...</td>\n",
       "    </tr>\n",
       "    <tr>\n",
       "      <td>11449</td>\n",
       "      <td>C4MIP</td>\n",
       "      <td>MOHC</td>\n",
       "      <td>UKESM1-0-LL</td>\n",
       "      <td>hist-bgc</td>\n",
       "      <td>r4i1p1f2</td>\n",
       "      <td>Omon</td>\n",
       "      <td>fgo2</td>\n",
       "      <td>gn</td>\n",
       "      <td>NaN</td>\n",
       "      <td>v20190829</td>\n",
       "      <td>185001-194912</td>\n",
       "      <td>/glade/collections/cmip/CMIP6/C4MIP/MOHC/UKESM...</td>\n",
       "    </tr>\n",
       "    <tr>\n",
       "      <td>11461</td>\n",
       "      <td>C4MIP</td>\n",
       "      <td>NASA-GISS</td>\n",
       "      <td>GISS-E2-1-G</td>\n",
       "      <td>hist-bgc</td>\n",
       "      <td>r101i1p1f1</td>\n",
       "      <td>Omon</td>\n",
       "      <td>fgco2</td>\n",
       "      <td>gn</td>\n",
       "      <td>NaN</td>\n",
       "      <td>v20190815</td>\n",
       "      <td>185001-190012</td>\n",
       "      <td>/glade/collections/cmip/CMIP6/C4MIP/NASA-GISS/...</td>\n",
       "    </tr>\n",
       "    <tr>\n",
       "      <td>11462</td>\n",
       "      <td>C4MIP</td>\n",
       "      <td>NASA-GISS</td>\n",
       "      <td>GISS-E2-1-G</td>\n",
       "      <td>hist-bgc</td>\n",
       "      <td>r101i1p1f1</td>\n",
       "      <td>Omon</td>\n",
       "      <td>fgco2</td>\n",
       "      <td>gn</td>\n",
       "      <td>NaN</td>\n",
       "      <td>v20190815</td>\n",
       "      <td>195101-200012</td>\n",
       "      <td>/glade/collections/cmip/CMIP6/C4MIP/NASA-GISS/...</td>\n",
       "    </tr>\n",
       "    <tr>\n",
       "      <td>11463</td>\n",
       "      <td>C4MIP</td>\n",
       "      <td>NASA-GISS</td>\n",
       "      <td>GISS-E2-1-G</td>\n",
       "      <td>hist-bgc</td>\n",
       "      <td>r101i1p1f1</td>\n",
       "      <td>Omon</td>\n",
       "      <td>fgco2</td>\n",
       "      <td>gn</td>\n",
       "      <td>NaN</td>\n",
       "      <td>v20190815</td>\n",
       "      <td>190101-195012</td>\n",
       "      <td>/glade/collections/cmip/CMIP6/C4MIP/NASA-GISS/...</td>\n",
       "    </tr>\n",
       "    <tr>\n",
       "      <td>...</td>\n",
       "      <td>...</td>\n",
       "      <td>...</td>\n",
       "      <td>...</td>\n",
       "      <td>...</td>\n",
       "      <td>...</td>\n",
       "      <td>...</td>\n",
       "      <td>...</td>\n",
       "      <td>...</td>\n",
       "      <td>...</td>\n",
       "      <td>...</td>\n",
       "      <td>...</td>\n",
       "      <td>...</td>\n",
       "    </tr>\n",
       "    <tr>\n",
       "      <td>560186</td>\n",
       "      <td>CMIP</td>\n",
       "      <td>NCC</td>\n",
       "      <td>NorESM2-LM</td>\n",
       "      <td>historical</td>\n",
       "      <td>r1i1p1f1</td>\n",
       "      <td>Omon</td>\n",
       "      <td>fgco2</td>\n",
       "      <td>gn</td>\n",
       "      <td>NaN</td>\n",
       "      <td>v20190815</td>\n",
       "      <td>190001-190912</td>\n",
       "      <td>/glade/collections/cmip/CMIP6/CMIP/NCC/NorESM2...</td>\n",
       "    </tr>\n",
       "    <tr>\n",
       "      <td>560187</td>\n",
       "      <td>CMIP</td>\n",
       "      <td>NCC</td>\n",
       "      <td>NorESM2-LM</td>\n",
       "      <td>historical</td>\n",
       "      <td>r1i1p1f1</td>\n",
       "      <td>Omon</td>\n",
       "      <td>fgco2</td>\n",
       "      <td>gn</td>\n",
       "      <td>NaN</td>\n",
       "      <td>v20190815</td>\n",
       "      <td>200001-200912</td>\n",
       "      <td>/glade/collections/cmip/CMIP6/CMIP/NCC/NorESM2...</td>\n",
       "    </tr>\n",
       "    <tr>\n",
       "      <td>560188</td>\n",
       "      <td>CMIP</td>\n",
       "      <td>NCC</td>\n",
       "      <td>NorESM2-LM</td>\n",
       "      <td>historical</td>\n",
       "      <td>r1i1p1f1</td>\n",
       "      <td>Omon</td>\n",
       "      <td>fgco2</td>\n",
       "      <td>gn</td>\n",
       "      <td>NaN</td>\n",
       "      <td>v20190815</td>\n",
       "      <td>194001-194912</td>\n",
       "      <td>/glade/collections/cmip/CMIP6/CMIP/NCC/NorESM2...</td>\n",
       "    </tr>\n",
       "    <tr>\n",
       "      <td>560189</td>\n",
       "      <td>CMIP</td>\n",
       "      <td>NCC</td>\n",
       "      <td>NorESM2-LM</td>\n",
       "      <td>historical</td>\n",
       "      <td>r1i1p1f1</td>\n",
       "      <td>Omon</td>\n",
       "      <td>fgco2</td>\n",
       "      <td>gn</td>\n",
       "      <td>NaN</td>\n",
       "      <td>v20190815</td>\n",
       "      <td>186001-186912</td>\n",
       "      <td>/glade/collections/cmip/CMIP6/CMIP/NCC/NorESM2...</td>\n",
       "    </tr>\n",
       "    <tr>\n",
       "      <td>560190</td>\n",
       "      <td>CMIP</td>\n",
       "      <td>NCC</td>\n",
       "      <td>NorESM2-LM</td>\n",
       "      <td>historical</td>\n",
       "      <td>r1i1p1f1</td>\n",
       "      <td>Omon</td>\n",
       "      <td>fgco2</td>\n",
       "      <td>gn</td>\n",
       "      <td>NaN</td>\n",
       "      <td>v20190815</td>\n",
       "      <td>191001-191912</td>\n",
       "      <td>/glade/collections/cmip/CMIP6/CMIP/NCC/NorESM2...</td>\n",
       "    </tr>\n",
       "  </tbody>\n",
       "</table>\n",
       "<p>245 rows × 12 columns</p>\n",
       "</div>"
      ],
      "text/plain": [
       "       activity_id institution_id    source_id experiment_id   member_id  \\\n",
       "11444        C4MIP   CNRM-CERFACS  CNRM-ESM2-1      hist-bgc    r1i1p1f2   \n",
       "11449        C4MIP           MOHC  UKESM1-0-LL      hist-bgc    r4i1p1f2   \n",
       "11461        C4MIP      NASA-GISS  GISS-E2-1-G      hist-bgc  r101i1p1f1   \n",
       "11462        C4MIP      NASA-GISS  GISS-E2-1-G      hist-bgc  r101i1p1f1   \n",
       "11463        C4MIP      NASA-GISS  GISS-E2-1-G      hist-bgc  r101i1p1f1   \n",
       "...            ...            ...          ...           ...         ...   \n",
       "560186        CMIP            NCC   NorESM2-LM    historical    r1i1p1f1   \n",
       "560187        CMIP            NCC   NorESM2-LM    historical    r1i1p1f1   \n",
       "560188        CMIP            NCC   NorESM2-LM    historical    r1i1p1f1   \n",
       "560189        CMIP            NCC   NorESM2-LM    historical    r1i1p1f1   \n",
       "560190        CMIP            NCC   NorESM2-LM    historical    r1i1p1f1   \n",
       "\n",
       "       table_id variable_id grid_label  dcpp_init_year    version  \\\n",
       "11444      Omon        fgo2         gn             NaN  v20190711   \n",
       "11449      Omon        fgo2         gn             NaN  v20190829   \n",
       "11461      Omon       fgco2         gn             NaN  v20190815   \n",
       "11462      Omon       fgco2         gn             NaN  v20190815   \n",
       "11463      Omon       fgco2         gn             NaN  v20190815   \n",
       "...         ...         ...        ...             ...        ...   \n",
       "560186     Omon       fgco2         gn             NaN  v20190815   \n",
       "560187     Omon       fgco2         gn             NaN  v20190815   \n",
       "560188     Omon       fgco2         gn             NaN  v20190815   \n",
       "560189     Omon       fgco2         gn             NaN  v20190815   \n",
       "560190     Omon       fgco2         gn             NaN  v20190815   \n",
       "\n",
       "           time_range                                               path  \n",
       "11444   185001-201412  /glade/collections/cmip/CMIP6/C4MIP/CNRM-CERFA...  \n",
       "11449   185001-194912  /glade/collections/cmip/CMIP6/C4MIP/MOHC/UKESM...  \n",
       "11461   185001-190012  /glade/collections/cmip/CMIP6/C4MIP/NASA-GISS/...  \n",
       "11462   195101-200012  /glade/collections/cmip/CMIP6/C4MIP/NASA-GISS/...  \n",
       "11463   190101-195012  /glade/collections/cmip/CMIP6/C4MIP/NASA-GISS/...  \n",
       "...               ...                                                ...  \n",
       "560186  190001-190912  /glade/collections/cmip/CMIP6/CMIP/NCC/NorESM2...  \n",
       "560187  200001-200912  /glade/collections/cmip/CMIP6/CMIP/NCC/NorESM2...  \n",
       "560188  194001-194912  /glade/collections/cmip/CMIP6/CMIP/NCC/NorESM2...  \n",
       "560189  186001-186912  /glade/collections/cmip/CMIP6/CMIP/NCC/NorESM2...  \n",
       "560190  191001-191912  /glade/collections/cmip/CMIP6/CMIP/NCC/NorESM2...  \n",
       "\n",
       "[245 rows x 12 columns]"
      ]
     },
     "execution_count": 9,
     "metadata": {},
     "output_type": "execute_result"
    }
   ],
   "source": [
    "# cat = col.search(experiment_id=['historical', 'ssp585'], table_id='Oyr', variable_id='o2', grid_label='gn')\n",
    "cat = col.search(experiment_id=['historical', 'hist-bgc'], table_id='Omon', grid_label='gn', variable_id=['fgo2','fgco2'])\n",
    "cat.df"
   ]
  },
  {
   "cell_type": "markdown",
   "metadata": {},
   "source": [
    "It might be desirable to get more specific. For instance, we may want to select only the models that have *both* `fgo2` and `fgco2` data. We coud do this as follows."
   ]
  },
  {
   "cell_type": "code",
   "execution_count": 10,
   "metadata": {},
   "outputs": [
    {
     "data": {
      "text/plain": [
       "['IPSL-CM6A-LR', 'CanESM5', 'NorESM2-LM']"
      ]
     },
     "execution_count": 10,
     "metadata": {},
     "output_type": "execute_result"
    }
   ],
   "source": [
    "models = set(uni_dict['source_id']['values']) # all the models\n",
    "\n",
    "#for variable_id in ['fgo2', 'fgco2', 'fgco2abio', 'fgco2nat', 'tos', 'sos', 'hfds']:\n",
    "for variable_id in ['fgo2', 'fgco2']:\n",
    "    query = dict(variable_id=variable_id, experiment_id='historical', table_id='Omon', \n",
    "                 grid_label='gn', member_id='r1i1p1f1')  \n",
    "    cat = col.search(**query)\n",
    "    models = models.intersection({model for model in cat.df.source_id.unique().tolist()})\n",
    "\n",
    "# ensure the CESM2 models are not included (oxygen was erroneously submitted to the archive)\n",
    "models = models - {'CESM2-WACCM', 'CESM2'} # tested just to look at without , 'NorESM2-LM'}\n",
    "\n",
    "models = list(models)\n",
    "models"
   ]
  },
  {
   "cell_type": "code",
   "execution_count": null,
   "metadata": {},
   "outputs": [],
   "source": [
    "# old workaround before intake ESM fixed\n",
    "#variables = ['fgo2', 'fgco2','tos','sos']\n",
    "#dsets = {}\n",
    "#for variable in variables:\n",
    "#   cat = col.search(variable_id= variable,experiment_id='historical', table_id='Omon',\n",
    "#                     grid_label='gn', member_id='r1i1p1f1', source_id=models) #,'hfds'\n",
    "#   dsets[variable] = cat.to_dataset_dict()\n",
    "#dsets"
   ]
  },
  {
   "cell_type": "code",
   "execution_count": null,
   "metadata": {},
   "outputs": [],
   "source": [
    "#dsets['fgo2'].keys()"
   ]
  },
  {
   "cell_type": "code",
   "execution_count": null,
   "metadata": {},
   "outputs": [],
   "source": [
    "#dsets['fgo2']['CMIP.CCCma.CanESM5.historical.Omon.gn']"
   ]
  },
  {
   "cell_type": "code",
   "execution_count": 11,
   "metadata": {},
   "outputs": [
    {
     "data": {
      "text/plain": [
       "['/glade/collections/cmip/CMIP6/CMIP/CCCma/CanESM5/historical/r1i1p1f1/Omon/fgo2/gn/v20190429/fgo2/fgo2_Omon_CanESM5_historical_r1i1p1f1_gn_185001-201412.nc',\n",
       " '/glade/collections/cmip/CMIP6/CMIP/CCCma/CanESM5/historical/r1i1p1f1/Omon/fgco2/gn/v20190429/fgco2/fgco2_Omon_CanESM5_historical_r1i1p1f1_gn_185001-201412.nc',\n",
       " '/glade/collections/cmip/CMIP6/CMIP/IPSL/IPSL-CM6A-LR/historical/r1i1p1f1/Omon/fgo2/gn/v20180803/fgo2/fgo2_Omon_IPSL-CM6A-LR_historical_r1i1p1f1_gn_185001-201412.nc',\n",
       " '/glade/collections/cmip/CMIP6/CMIP/IPSL/IPSL-CM6A-LR/historical/r1i1p1f1/Omon/fgco2/gn/v20180803/fgco2/fgco2_Omon_IPSL-CM6A-LR_historical_r1i1p1f1_gn_185001-201412.nc',\n",
       " '/glade/collections/cmip/CMIP6/CMIP/NCC/NorESM2-LM/historical/r1i1p1f1/Omon/fgo2/gn/v20190815/fgo2/fgo2_Omon_NorESM2-LM_historical_r1i1p1f1_gn_199001-199912.nc',\n",
       " '/glade/collections/cmip/CMIP6/CMIP/NCC/NorESM2-LM/historical/r1i1p1f1/Omon/fgo2/gn/v20190815/fgo2/fgo2_Omon_NorESM2-LM_historical_r1i1p1f1_gn_194001-194912.nc',\n",
       " '/glade/collections/cmip/CMIP6/CMIP/NCC/NorESM2-LM/historical/r1i1p1f1/Omon/fgo2/gn/v20190815/fgo2/fgo2_Omon_NorESM2-LM_historical_r1i1p1f1_gn_193001-193912.nc',\n",
       " '/glade/collections/cmip/CMIP6/CMIP/NCC/NorESM2-LM/historical/r1i1p1f1/Omon/fgo2/gn/v20190815/fgo2/fgo2_Omon_NorESM2-LM_historical_r1i1p1f1_gn_189001-189912.nc',\n",
       " '/glade/collections/cmip/CMIP6/CMIP/NCC/NorESM2-LM/historical/r1i1p1f1/Omon/fgo2/gn/v20190815/fgo2/fgo2_Omon_NorESM2-LM_historical_r1i1p1f1_gn_186001-186912.nc',\n",
       " '/glade/collections/cmip/CMIP6/CMIP/NCC/NorESM2-LM/historical/r1i1p1f1/Omon/fgo2/gn/v20190815/fgo2/fgo2_Omon_NorESM2-LM_historical_r1i1p1f1_gn_196001-196912.nc',\n",
       " '/glade/collections/cmip/CMIP6/CMIP/NCC/NorESM2-LM/historical/r1i1p1f1/Omon/fgo2/gn/v20190815/fgo2/fgo2_Omon_NorESM2-LM_historical_r1i1p1f1_gn_201001-201412.nc',\n",
       " '/glade/collections/cmip/CMIP6/CMIP/NCC/NorESM2-LM/historical/r1i1p1f1/Omon/fgo2/gn/v20190815/fgo2/fgo2_Omon_NorESM2-LM_historical_r1i1p1f1_gn_190001-190912.nc',\n",
       " '/glade/collections/cmip/CMIP6/CMIP/NCC/NorESM2-LM/historical/r1i1p1f1/Omon/fgo2/gn/v20190815/fgo2/fgo2_Omon_NorESM2-LM_historical_r1i1p1f1_gn_198001-198912.nc',\n",
       " '/glade/collections/cmip/CMIP6/CMIP/NCC/NorESM2-LM/historical/r1i1p1f1/Omon/fgo2/gn/v20190815/fgo2/fgo2_Omon_NorESM2-LM_historical_r1i1p1f1_gn_195001-195912.nc',\n",
       " '/glade/collections/cmip/CMIP6/CMIP/NCC/NorESM2-LM/historical/r1i1p1f1/Omon/fgo2/gn/v20190815/fgo2/fgo2_Omon_NorESM2-LM_historical_r1i1p1f1_gn_200001-200912.nc',\n",
       " '/glade/collections/cmip/CMIP6/CMIP/NCC/NorESM2-LM/historical/r1i1p1f1/Omon/fgo2/gn/v20190815/fgo2/fgo2_Omon_NorESM2-LM_historical_r1i1p1f1_gn_187001-187912.nc',\n",
       " '/glade/collections/cmip/CMIP6/CMIP/NCC/NorESM2-LM/historical/r1i1p1f1/Omon/fgo2/gn/v20190815/fgo2/fgo2_Omon_NorESM2-LM_historical_r1i1p1f1_gn_188001-188912.nc',\n",
       " '/glade/collections/cmip/CMIP6/CMIP/NCC/NorESM2-LM/historical/r1i1p1f1/Omon/fgo2/gn/v20190815/fgo2/fgo2_Omon_NorESM2-LM_historical_r1i1p1f1_gn_185001-185912.nc',\n",
       " '/glade/collections/cmip/CMIP6/CMIP/NCC/NorESM2-LM/historical/r1i1p1f1/Omon/fgco2/gn/v20190815/fgco2/fgco2_Omon_NorESM2-LM_historical_r1i1p1f1_gn_201001-201412.nc',\n",
       " '/glade/collections/cmip/CMIP6/CMIP/NCC/NorESM2-LM/historical/r1i1p1f1/Omon/fgco2/gn/v20190815/fgco2/fgco2_Omon_NorESM2-LM_historical_r1i1p1f1_gn_199001-199912.nc',\n",
       " '/glade/collections/cmip/CMIP6/CMIP/NCC/NorESM2-LM/historical/r1i1p1f1/Omon/fgco2/gn/v20190815/fgco2/fgco2_Omon_NorESM2-LM_historical_r1i1p1f1_gn_192001-192912.nc',\n",
       " '/glade/collections/cmip/CMIP6/CMIP/NCC/NorESM2-LM/historical/r1i1p1f1/Omon/fgco2/gn/v20190815/fgco2/fgco2_Omon_NorESM2-LM_historical_r1i1p1f1_gn_198001-198912.nc',\n",
       " '/glade/collections/cmip/CMIP6/CMIP/NCC/NorESM2-LM/historical/r1i1p1f1/Omon/fgco2/gn/v20190815/fgco2/fgco2_Omon_NorESM2-LM_historical_r1i1p1f1_gn_187001-187912.nc',\n",
       " '/glade/collections/cmip/CMIP6/CMIP/NCC/NorESM2-LM/historical/r1i1p1f1/Omon/fgco2/gn/v20190815/fgco2/fgco2_Omon_NorESM2-LM_historical_r1i1p1f1_gn_193001-193912.nc',\n",
       " '/glade/collections/cmip/CMIP6/CMIP/NCC/NorESM2-LM/historical/r1i1p1f1/Omon/fgco2/gn/v20190815/fgco2/fgco2_Omon_NorESM2-LM_historical_r1i1p1f1_gn_195001-195912.nc',\n",
       " '/glade/collections/cmip/CMIP6/CMIP/NCC/NorESM2-LM/historical/r1i1p1f1/Omon/fgco2/gn/v20190815/fgco2/fgco2_Omon_NorESM2-LM_historical_r1i1p1f1_gn_189001-189912.nc',\n",
       " '/glade/collections/cmip/CMIP6/CMIP/NCC/NorESM2-LM/historical/r1i1p1f1/Omon/fgco2/gn/v20190815/fgco2/fgco2_Omon_NorESM2-LM_historical_r1i1p1f1_gn_190001-190912.nc',\n",
       " '/glade/collections/cmip/CMIP6/CMIP/NCC/NorESM2-LM/historical/r1i1p1f1/Omon/fgco2/gn/v20190815/fgco2/fgco2_Omon_NorESM2-LM_historical_r1i1p1f1_gn_200001-200912.nc',\n",
       " '/glade/collections/cmip/CMIP6/CMIP/NCC/NorESM2-LM/historical/r1i1p1f1/Omon/fgco2/gn/v20190815/fgco2/fgco2_Omon_NorESM2-LM_historical_r1i1p1f1_gn_194001-194912.nc',\n",
       " '/glade/collections/cmip/CMIP6/CMIP/NCC/NorESM2-LM/historical/r1i1p1f1/Omon/fgco2/gn/v20190815/fgco2/fgco2_Omon_NorESM2-LM_historical_r1i1p1f1_gn_186001-186912.nc',\n",
       " '/glade/collections/cmip/CMIP6/CMIP/NCC/NorESM2-LM/historical/r1i1p1f1/Omon/fgco2/gn/v20190815/fgco2/fgco2_Omon_NorESM2-LM_historical_r1i1p1f1_gn_191001-191912.nc']"
      ]
     },
     "execution_count": 11,
     "metadata": {},
     "output_type": "execute_result"
    }
   ],
   "source": [
    "cat = col.search(experiment_id='historical', variable_id=['fgo2', 'fgco2'], table_id='Omon', \n",
    "                 grid_label='gn', source_id=models, member_id='r1i1p1f1')\n",
    "#cat.df\n",
    "cat.df.path.tolist()"
   ]
  },
  {
   "cell_type": "markdown",
   "metadata": {},
   "source": [
    "### Loading data\n",
    "\n",
    "`intake-esm` enables loading data directly into an [xarray.Dataset](http://xarray.pydata.org/en/stable/api.html#dataset).\n",
    "\n",
    "Note that data on the cloud are in \n",
    "[zarr](https://zarr.readthedocs.io/en/stable/) format and data on \n",
    "[glade](https://www2.cisl.ucar.edu/resources/storage-and-file-systems/glade-file-spaces) are stored as \n",
    "[netCDF](https://www.unidata.ucar.edu/software/netcdf/) files. This is opaque to the user.\n",
    "\n",
    "`intake-esm` has rules for aggegating datasets; these rules are defined in the collection-specification file."
   ]
  },
  {
   "cell_type": "code",
   "execution_count": 12,
   "metadata": {},
   "outputs": [
    {
     "name": "stdout",
     "output_type": "stream",
     "text": [
      "--> The keys in the returned dictionary of datasets are constructed as follows:\n",
      "\t'activity_id.institution_id.source_id.experiment_id.table_id.grid_label'\n",
      "\n",
      "--> There will be 3 group(s)\n"
     ]
    }
   ],
   "source": [
    "dset_dict = cat.to_dataset_dict(zarr_kwargs={'consolidated': True, 'decode_times': False}, \n",
    "                                cdf_kwargs={'chunks': {'time': 36}, 'decode_times': False})"
   ]
  },
  {
   "cell_type": "markdown",
   "metadata": {},
   "source": [
    "`dset_dict` is a dictionary of `xarray.Dataset`'s; its keys are constructed to refer to compatible groups."
   ]
  },
  {
   "cell_type": "code",
   "execution_count": 13,
   "metadata": {},
   "outputs": [
    {
     "data": {
      "text/plain": [
       "dict_keys(['CMIP.CCCma.CanESM5.historical.Omon.gn', 'CMIP.IPSL.IPSL-CM6A-LR.historical.Omon.gn', 'CMIP.NCC.NorESM2-LM.historical.Omon.gn'])"
      ]
     },
     "execution_count": 13,
     "metadata": {},
     "output_type": "execute_result"
    }
   ],
   "source": [
    "dset_dict.keys()"
   ]
  },
  {
   "cell_type": "markdown",
   "metadata": {},
   "source": [
    "We can access a particular dataset as follows."
   ]
  },
  {
   "cell_type": "code",
   "execution_count": 32,
   "metadata": {},
   "outputs": [
    {
     "name": "stdout",
     "output_type": "stream",
     "text": [
      "*** Dimensions\n",
      "Frozen(SortedKeysDict({'j': 291, 'i': 360, 'vertices': 4, 'member_id': 1, 'time': 1980, 'bnds': 2}))\n",
      "\n",
      "\n",
      "*** Coordinates\n",
      "Coordinates:\n",
      "  * j          (j) int32 0 1 2 3 4 5 6 7 8 ... 283 284 285 286 287 288 289 290\n",
      "  * member_id  (member_id) <U8 'r1i1p1f1'\n",
      "  * i          (i) int32 0 1 2 3 4 5 6 7 8 ... 352 353 354 355 356 357 358 359\n",
      "  * time       (time) float64 15.5 45.0 74.5 ... 6.015e+04 6.018e+04 6.021e+04\n",
      "\n",
      "\n",
      "*** Attributes\n",
      "{'parent_time_units': 'days since 1850-01-01 0:0:0.0', 'experiment': 'all-forcing simulation of the recent past', 'nominal_resolution': '100 km', 'institution_id': 'CCCma', 'branch_time_in_child': 0.0, 'parent_mip_era': 'CMIP6', 'realm': 'ocnBgchem', 'forcing_index': 1, 'table_id': 'Omon', 'external_variables': 'areacello', 'source_type': 'AOGCM', 'sub_experiment_id': 'none', 'YMDH_branch_time_in_parent': '5201:01:01:00', 'CCCma_model_hash': '3dedf95315d603326fde4f5340dc0519d80d10c0', 'institution': 'Canadian Centre for Climate Modelling and Analysis, Environment and Climate Change Canada, Victoria, BC V8P 5C2, Canada', 'source': 'CanESM5 (2019): \\naerosol: interactive\\natmos: CanAM5 (T63L49 native atmosphere, T63 Linear Gaussian Grid; 128 x 64 longitude/latitude; 49 levels; top level 1 hPa)\\natmosChem: specified oxidants for aerosols\\nland: CLASS3.6/CTEM1.2\\nlandIce: specified ice sheets\\nocean: NEMO3.4.1 (ORCA1 tripolar grid, 1 deg with refinement to 1/3 deg within 20 degrees of the equator; 361 x 290 longitude/latitude; 45 vertical levels; top grid cell 0-6.19 m)\\nocnBgchem: Canadian Model of Ocean Carbon (CMOC); NPZD ecosystem with OMIP prescribed carbonate chemistry\\nseaIce: LIM2', 'frequency': 'mon', 'sub_experiment': 'none', 'grid_label': 'gn', 'version': 'v20190429', 'contact': 'ec.cccma.info-info.ccmac.ec@canada.ca', 'history': '2019-05-01T03:04:10Z ;rewrote data to be consistent with CMIP for variable fgco2 found in table Omon.;\\nOutput from $runid\\n2019-05-01T03:04:13Z ;rewrote data to be consistent with CMIP for variable fgo2 found in table Omon.;\\nOutput from $runid', 'tracking_id': 'hdl:21.14100/c437c17a-5c45-4543-843d-813e8ffdb92e\\nhdl:21.14100/60887722-557f-45ab-a8dd-4644d059e360', 'CCCma_runid': 'rc3.1-his01', 'branch_time_in_parent': 1223115.0, 'realization_index': 1, 'parent_activity_id': 'CMIP', 'CCCma_pycmor_hash': '33c30511acc319a98240633965a04ca99c26427e', 'parent_source_id': 'CanESM5', 'cmor_version': '3.4.0', 'variant_label': 'r1i1p1f1', 'parent_experiment_id': 'piControl', 'initialization_index': 1, 'CCCma_parent_runid': 'rc3-pictrl', 'physics_index': 1, 'grid': 'ORCA1 tripolar grid, 1 deg with refinement to 1/3 deg within 20 degrees of the equator; 361 x 290 longitude/latitude; 45 vertical levels; top grid cell 0-6.19 m', 'parent_variant_label': 'r1i1p1f1', 'references': 'Geophysical Model Development Special issue on CanESM5 (https://www.geosci-model-dev.net/special_issues.html)', 'activity_id': 'CMIP', 'data_specs_version': '01.00.29', 'table_info': 'Creation Date:(20 February 2019) MD5:374fbe5a2bcca535c40f7f23da271e49', 'branch_method': 'Spin-up documentation', 'source_id': 'CanESM5', 'product': 'model-output', 'license': 'CMIP6 model data produced by The Government of Canada (Canadian Centre for Climate Modelling and Analysis, Environment and Climate Change Canada) is licensed under a Creative Commons Attribution ShareAlike 4.0 International License (https://creativecommons.org/licenses). Consult https://pcmdi.llnl.gov/CMIP6/TermsOfUse for terms of use governing CMIP6 output, including citation requirements and proper acknowledgment. Further information about this data, including some limitations, can be found via the further_info_url (recorded as a global attribute in this file) and at https:///pcmdi.llnl.gov/. The data producers and data providers make no warranty, either express or implied, including, but not limited to, warranties of merchantability and fitness for a particular purpose. All liabilities arising from the supply of the information (including any liability arising in negligence) are excluded to the fullest extent permitted by law.', 'YMDH_branch_time_in_child': '1850:01:01:00', 'Conventions': 'CF-1.7 CMIP-6.2', 'title': 'CanESM5 output prepared for CMIP6', 'experiment_id': 'historical', 'mip_era': 'CMIP6', 'further_info_url': 'https://furtherinfo.es-doc.org/CMIP6.CCCma.CanESM5.historical.none.r1i1p1f1'}\n"
     ]
    }
   ],
   "source": [
    "#dset_dict['CMIP.BCC.BCC-CSM2-MR.historical.Omon.gn']\n",
    "ds=dset_dict['CMIP.CCCma.CanESM5.historical.Omon.gn']\n",
    "#canesmfgo2ds.sel[i==0,j==0]\n",
    "print(\"*** Dimensions\")\n",
    "print(ds.dims)\n",
    "print(\"\\n\\n*** Coordinates\")\n",
    "print(ds.coords)\n",
    "print(\"\\n\\n*** Attributes\")\n",
    "print(ds.attrs)"
   ]
  },
  {
   "cell_type": "code",
   "execution_count": 35,
   "metadata": {},
   "outputs": [
    {
     "name": "stdout",
     "output_type": "stream",
     "text": [
      "*** Dimensions\n",
      "('member_id', 'time', 'j', 'i')\n",
      "\n",
      "\n",
      "*** Coordinates\n",
      "Coordinates:\n",
      "  * j          (j) int32 0 1 2 3 4 5 6 7 8 ... 283 284 285 286 287 288 289 290\n",
      "  * member_id  (member_id) <U8 'r1i1p1f1'\n",
      "  * i          (i) int32 0 1 2 3 4 5 6 7 8 ... 352 353 354 355 356 357 358 359\n",
      "  * time       (time) float64 15.5 45.0 74.5 ... 6.015e+04 6.018e+04 6.021e+04\n",
      "\n",
      "\n",
      "*** Attributes\n",
      "{'standard_name': 'surface_downward_mole_flux_of_molecular_oxygen', 'long_name': 'Surface Downward Flux of O2', 'comment': 'Gas exchange flux of O2 (positive into ocean)', 'units': 'mol m-2 s-1', 'original_name': 'Oflx', 'cell_methods': 'area: mean where sea time: mean', 'cell_measures': 'area: areacello', 'history': \"2019-05-01T03:04:13Z altered by CMOR: Treated scalar dimension: 'depth'.\"}\n"
     ]
    }
   ],
   "source": [
    "da=ds['fgo2']\n",
    "print(\"*** Dimensions\")\n",
    "print(da.dims)\n",
    "print(\"\\n\\n*** Coordinates\")\n",
    "print(da.coords)\n",
    "print(\"\\n\\n*** Attributes\")\n",
    "print(da.attrs)"
   ]
  },
  {
   "cell_type": "code",
   "execution_count": 46,
   "metadata": {},
   "outputs": [
    {
     "data": {
      "text/plain": [
       "<xarray.Dataset>\n",
       "Dimensions:             (bnds: 2, i: 360, j: 291, member_id: 1, time: 1980, vertices: 4)\n",
       "Coordinates:\n",
       "  * j                   (j) int32 0 1 2 3 4 5 6 ... 284 285 286 287 288 289 290\n",
       "  * member_id           (member_id) <U8 'r1i1p1f1'\n",
       "  * i                   (i) int32 0 1 2 3 4 5 6 ... 353 354 355 356 357 358 359\n",
       "  * time                (time) float64 15.5 45.0 74.5 ... 6.018e+04 6.021e+04\n",
       "Dimensions without coordinates: bnds, vertices\n",
       "Data variables:\n",
       "    latitude            (j, i) float64 dask.array<chunksize=(291, 360), meta=np.ndarray>\n",
       "    vertices_latitude   (j, i, vertices) float64 dask.array<chunksize=(291, 360, 4), meta=np.ndarray>\n",
       "    depth               float64 0.0\n",
       "    longitude           (j, i) float64 dask.array<chunksize=(291, 360), meta=np.ndarray>\n",
       "    vertices_longitude  (j, i, vertices) float64 dask.array<chunksize=(291, 360, 4), meta=np.ndarray>\n",
       "    time_bnds           (time, bnds) float64 dask.array<chunksize=(36, 2), meta=np.ndarray>\n",
       "    fgco2               (member_id, time, j, i) float32 dask.array<chunksize=(1, 36, 291, 360), meta=np.ndarray>\n",
       "    fgo2                (member_id, time, j, i) float32 dask.array<chunksize=(1, 36, 291, 360), meta=np.ndarray>\n",
       "Attributes:\n",
       "    parent_time_units:           days since 1850-01-01 0:0:0.0\n",
       "    experiment:                  all-forcing simulation of the recent past\n",
       "    nominal_resolution:          100 km\n",
       "    institution_id:              CCCma\n",
       "    branch_time_in_child:        0.0\n",
       "    parent_mip_era:              CMIP6\n",
       "    realm:                       ocnBgchem\n",
       "    forcing_index:               1\n",
       "    table_id:                    Omon\n",
       "    external_variables:          areacello\n",
       "    source_type:                 AOGCM\n",
       "    sub_experiment_id:           none\n",
       "    YMDH_branch_time_in_parent:  5201:01:01:00\n",
       "    CCCma_model_hash:            3dedf95315d603326fde4f5340dc0519d80d10c0\n",
       "    institution:                 Canadian Centre for Climate Modelling and An...\n",
       "    source:                      CanESM5 (2019): \\naerosol: interactive\\natmo...\n",
       "    frequency:                   mon\n",
       "    sub_experiment:              none\n",
       "    grid_label:                  gn\n",
       "    version:                     v20190429\n",
       "    contact:                     ec.cccma.info-info.ccmac.ec@canada.ca\n",
       "    history:                     2019-05-01T03:04:10Z ;rewrote data to be con...\n",
       "    tracking_id:                 hdl:21.14100/c437c17a-5c45-4543-843d-813e8ff...\n",
       "    CCCma_runid:                 rc3.1-his01\n",
       "    branch_time_in_parent:       1223115.0\n",
       "    realization_index:           1\n",
       "    parent_activity_id:          CMIP\n",
       "    CCCma_pycmor_hash:           33c30511acc319a98240633965a04ca99c26427e\n",
       "    parent_source_id:            CanESM5\n",
       "    cmor_version:                3.4.0\n",
       "    variant_label:               r1i1p1f1\n",
       "    parent_experiment_id:        piControl\n",
       "    initialization_index:        1\n",
       "    CCCma_parent_runid:          rc3-pictrl\n",
       "    physics_index:               1\n",
       "    grid:                        ORCA1 tripolar grid, 1 deg with refinement t...\n",
       "    parent_variant_label:        r1i1p1f1\n",
       "    references:                  Geophysical Model Development Special issue ...\n",
       "    activity_id:                 CMIP\n",
       "    data_specs_version:          01.00.29\n",
       "    table_info:                  Creation Date:(20 February 2019) MD5:374fbe5...\n",
       "    branch_method:               Spin-up documentation\n",
       "    source_id:                   CanESM5\n",
       "    product:                     model-output\n",
       "    license:                     CMIP6 model data produced by The Government ...\n",
       "    YMDH_branch_time_in_child:   1850:01:01:00\n",
       "    Conventions:                 CF-1.7 CMIP-6.2\n",
       "    title:                       CanESM5 output prepared for CMIP6\n",
       "    experiment_id:               historical\n",
       "    mip_era:                     CMIP6\n",
       "    further_info_url:            https://furtherinfo.es-doc.org/CMIP6.CCCma.C..."
      ]
     },
     "execution_count": 46,
     "metadata": {},
     "output_type": "execute_result"
    }
   ],
   "source": [
    "ds"
   ]
  },
  {
   "cell_type": "code",
   "execution_count": 40,
   "metadata": {},
   "outputs": [
    {
     "data": {
      "text/plain": [
       "<xarray.DataArray 'fgo2' (member_id: 1, time: 1980)>\n",
       "dask.array<getitem, shape=(1, 1980), dtype=float32, chunksize=(1, 36), chunktype=numpy.ndarray>\n",
       "Coordinates:\n",
       "    j          int32 0\n",
       "  * member_id  (member_id) <U8 'r1i1p1f1'\n",
       "    i          int32 0\n",
       "  * time       (time) float64 15.5 45.0 74.5 ... 6.015e+04 6.018e+04 6.021e+04\n",
       "Attributes:\n",
       "    standard_name:  surface_downward_mole_flux_of_molecular_oxygen\n",
       "    long_name:      Surface Downward Flux of O2\n",
       "    comment:        Gas exchange flux of O2 (positive into ocean)\n",
       "    units:          mol m-2 s-1\n",
       "    original_name:  Oflx\n",
       "    cell_methods:   area: mean where sea time: mean\n",
       "    cell_measures:  area: areacello\n",
       "    history:        2019-05-01T03:04:13Z altered by CMOR: Treated scalar dime..."
      ]
     },
     "execution_count": 40,
     "metadata": {},
     "output_type": "execute_result"
    }
   ],
   "source": [
    "# isel is index select\n",
    "da.isel(i=0, j=0)"
   ]
  },
  {
   "cell_type": "code",
   "execution_count": 60,
   "metadata": {},
   "outputs": [
    {
     "data": {
      "text/plain": [
       "<xarray.DataArray 'latitude' (j: 291, i: 360)>\n",
       "dask.array<where, shape=(291, 360), dtype=float64, chunksize=(291, 360), chunktype=numpy.ndarray>\n",
       "Coordinates:\n",
       "  * j        (j) int32 0 1 2 3 4 5 6 7 8 ... 282 283 284 285 286 287 288 289 290\n",
       "  * i        (i) int32 0 1 2 3 4 5 6 7 8 ... 351 352 353 354 355 356 357 358 359\n",
       "Attributes:\n",
       "    standard_name:  latitude\n",
       "    long_name:      latitude\n",
       "    units:          degrees_north\n",
       "    bounds:         vertices_latitude"
      ]
     },
     "execution_count": 60,
     "metadata": {},
     "output_type": "execute_result"
    }
   ],
   "source": [
    "ds.latitude"
   ]
  },
  {
   "cell_type": "code",
   "execution_count": 65,
   "metadata": {},
   "outputs": [
    {
     "data": {
      "text/plain": [
       "<matplotlib.collections.QuadMesh at 0x2aee92cdf630>"
      ]
     },
     "execution_count": 65,
     "metadata": {},
     "output_type": "execute_result"
    },
    {
     "data": {
      "image/png": "[encoded data removed]",
      "text/plain": [
       "<Figure size 432x288 with 2 Axes>"
      ]
     },
     "metadata": {
      "needs_background": "light"
     },
     "output_type": "display_data"
    }
   ],
   "source": [
    "da.sel(time=15.5)\n",
    "da.isel(time=0)\n",
    "#da.where(ds.latitude<-44&ds.longitude>270&ds.longitude<300)\n",
    "#da.where((ds.latitude < -44)).squeeze().isel(time=0).plot()\n",
    "da.isel(time=0).plot()"
   ]
  },
  {
   "cell_type": "code",
   "execution_count": 68,
   "metadata": {},
   "outputs": [
    {
     "ename": "AttributeError",
     "evalue": "'IndexVariable' object has no attribute 'month'",
     "output_type": "error",
     "traceback": [
      "\u001b[0;31m---------------------------------------------------------------------------\u001b[0m",
      "\u001b[0;31mKeyError\u001b[0m                                  Traceback (most recent call last)",
      "\u001b[0;32m/ncar/usr/jupyterhub/envs/cmip6-201910a/lib/python3.7/site-packages/xarray/core/dataarray.py\u001b[0m in \u001b[0;36m_getitem_coord\u001b[0;34m(self, key)\u001b[0m\n\u001b[1;32m    626\u001b[0m         \u001b[0;32mtry\u001b[0m\u001b[0;34m:\u001b[0m\u001b[0;34m\u001b[0m\u001b[0;34m\u001b[0m\u001b[0m\n\u001b[0;32m--> 627\u001b[0;31m             \u001b[0mvar\u001b[0m \u001b[0;34m=\u001b[0m \u001b[0mself\u001b[0m\u001b[0;34m.\u001b[0m\u001b[0m_coords\u001b[0m\u001b[0;34m[\u001b[0m\u001b[0mkey\u001b[0m\u001b[0;34m]\u001b[0m\u001b[0;34m\u001b[0m\u001b[0;34m\u001b[0m\u001b[0m\n\u001b[0m\u001b[1;32m    628\u001b[0m         \u001b[0;32mexcept\u001b[0m \u001b[0mKeyError\u001b[0m\u001b[0;34m:\u001b[0m\u001b[0;34m\u001b[0m\u001b[0;34m\u001b[0m\u001b[0m\n",
      "\u001b[0;31mKeyError\u001b[0m: 'time.month'",
      "\nDuring handling of the above exception, another exception occurred:\n",
      "\u001b[0;31mAttributeError\u001b[0m                            Traceback (most recent call last)",
      "\u001b[0;32m<ipython-input-68-f64165a4a798>\u001b[0m in \u001b[0;36m<module>\u001b[0;34m\u001b[0m\n\u001b[1;32m      1\u001b[0m \u001b[0;31m# try to make DJf average\u001b[0m\u001b[0;34m\u001b[0m\u001b[0;34m\u001b[0m\u001b[0;34m\u001b[0m\u001b[0m\n\u001b[0;32m----> 2\u001b[0;31m \u001b[0mda\u001b[0m\u001b[0;34m.\u001b[0m\u001b[0mgroupby\u001b[0m\u001b[0;34m(\u001b[0m\u001b[0;34m'time.month'\u001b[0m\u001b[0;34m)\u001b[0m\u001b[0;34m\u001b[0m\u001b[0;34m\u001b[0m\u001b[0m\n\u001b[0m",
      "\u001b[0;32m/ncar/usr/jupyterhub/envs/cmip6-201910a/lib/python3.7/site-packages/xarray/core/common.py\u001b[0m in \u001b[0;36mgroupby\u001b[0;34m(self, group, squeeze, restore_coord_dims)\u001b[0m\n\u001b[1;32m    655\u001b[0m         \"\"\"\n\u001b[1;32m    656\u001b[0m         return self._groupby_cls(\n\u001b[0;32m--> 657\u001b[0;31m             \u001b[0mself\u001b[0m\u001b[0;34m,\u001b[0m \u001b[0mgroup\u001b[0m\u001b[0;34m,\u001b[0m \u001b[0msqueeze\u001b[0m\u001b[0;34m=\u001b[0m\u001b[0msqueeze\u001b[0m\u001b[0;34m,\u001b[0m \u001b[0mrestore_coord_dims\u001b[0m\u001b[0;34m=\u001b[0m\u001b[0mrestore_coord_dims\u001b[0m\u001b[0;34m\u001b[0m\u001b[0;34m\u001b[0m\u001b[0m\n\u001b[0m\u001b[1;32m    658\u001b[0m         )\n\u001b[1;32m    659\u001b[0m \u001b[0;34m\u001b[0m\u001b[0m\n",
      "\u001b[0;32m/ncar/usr/jupyterhub/envs/cmip6-201910a/lib/python3.7/site-packages/xarray/core/groupby.py\u001b[0m in \u001b[0;36m__init__\u001b[0;34m(self, obj, group, squeeze, grouper, bins, restore_coord_dims, cut_kwargs)\u001b[0m\n\u001b[1;32m    297\u001b[0m                     \u001b[0;34m\"name of an xarray variable or dimension\"\u001b[0m\u001b[0;34m\u001b[0m\u001b[0;34m\u001b[0m\u001b[0m\n\u001b[1;32m    298\u001b[0m                 )\n\u001b[0;32m--> 299\u001b[0;31m             \u001b[0mgroup\u001b[0m \u001b[0;34m=\u001b[0m \u001b[0mobj\u001b[0m\u001b[0;34m[\u001b[0m\u001b[0mgroup\u001b[0m\u001b[0;34m]\u001b[0m\u001b[0;34m\u001b[0m\u001b[0;34m\u001b[0m\u001b[0m\n\u001b[0m\u001b[1;32m    300\u001b[0m             \u001b[0;32mif\u001b[0m \u001b[0mlen\u001b[0m\u001b[0;34m(\u001b[0m\u001b[0mgroup\u001b[0m\u001b[0;34m)\u001b[0m \u001b[0;34m==\u001b[0m \u001b[0;36m0\u001b[0m\u001b[0;34m:\u001b[0m\u001b[0;34m\u001b[0m\u001b[0;34m\u001b[0m\u001b[0m\n\u001b[1;32m    301\u001b[0m                 \u001b[0;32mraise\u001b[0m \u001b[0mValueError\u001b[0m\u001b[0;34m(\u001b[0m\u001b[0;34m\"{} must not be empty\"\u001b[0m\u001b[0;34m.\u001b[0m\u001b[0mformat\u001b[0m\u001b[0;34m(\u001b[0m\u001b[0mgroup\u001b[0m\u001b[0;34m.\u001b[0m\u001b[0mname\u001b[0m\u001b[0;34m)\u001b[0m\u001b[0;34m)\u001b[0m\u001b[0;34m\u001b[0m\u001b[0;34m\u001b[0m\u001b[0m\n",
      "\u001b[0;32m/ncar/usr/jupyterhub/envs/cmip6-201910a/lib/python3.7/site-packages/xarray/core/dataarray.py\u001b[0m in \u001b[0;36m__getitem__\u001b[0;34m(self, key)\u001b[0m\n\u001b[1;32m    636\u001b[0m     \u001b[0;32mdef\u001b[0m \u001b[0m__getitem__\u001b[0m\u001b[0;34m(\u001b[0m\u001b[0mself\u001b[0m\u001b[0;34m,\u001b[0m \u001b[0mkey\u001b[0m\u001b[0;34m:\u001b[0m \u001b[0mAny\u001b[0m\u001b[0;34m)\u001b[0m \u001b[0;34m->\u001b[0m \u001b[0;34m\"DataArray\"\u001b[0m\u001b[0;34m:\u001b[0m\u001b[0;34m\u001b[0m\u001b[0;34m\u001b[0m\u001b[0m\n\u001b[1;32m    637\u001b[0m         \u001b[0;32mif\u001b[0m \u001b[0misinstance\u001b[0m\u001b[0;34m(\u001b[0m\u001b[0mkey\u001b[0m\u001b[0;34m,\u001b[0m \u001b[0mstr\u001b[0m\u001b[0;34m)\u001b[0m\u001b[0;34m:\u001b[0m\u001b[0;34m\u001b[0m\u001b[0;34m\u001b[0m\u001b[0m\n\u001b[0;32m--> 638\u001b[0;31m             \u001b[0;32mreturn\u001b[0m \u001b[0mself\u001b[0m\u001b[0;34m.\u001b[0m\u001b[0m_getitem_coord\u001b[0m\u001b[0;34m(\u001b[0m\u001b[0mkey\u001b[0m\u001b[0;34m)\u001b[0m\u001b[0;34m\u001b[0m\u001b[0;34m\u001b[0m\u001b[0m\n\u001b[0m\u001b[1;32m    639\u001b[0m         \u001b[0;32melse\u001b[0m\u001b[0;34m:\u001b[0m\u001b[0;34m\u001b[0m\u001b[0;34m\u001b[0m\u001b[0m\n\u001b[1;32m    640\u001b[0m             \u001b[0;31m# xarray-style array indexing\u001b[0m\u001b[0;34m\u001b[0m\u001b[0;34m\u001b[0m\u001b[0;34m\u001b[0m\u001b[0m\n",
      "\u001b[0;32m/ncar/usr/jupyterhub/envs/cmip6-201910a/lib/python3.7/site-packages/xarray/core/dataarray.py\u001b[0m in \u001b[0;36m_getitem_coord\u001b[0;34m(self, key)\u001b[0m\n\u001b[1;32m    629\u001b[0m             \u001b[0mdim_sizes\u001b[0m \u001b[0;34m=\u001b[0m \u001b[0mdict\u001b[0m\u001b[0;34m(\u001b[0m\u001b[0mzip\u001b[0m\u001b[0;34m(\u001b[0m\u001b[0mself\u001b[0m\u001b[0;34m.\u001b[0m\u001b[0mdims\u001b[0m\u001b[0;34m,\u001b[0m \u001b[0mself\u001b[0m\u001b[0;34m.\u001b[0m\u001b[0mshape\u001b[0m\u001b[0;34m)\u001b[0m\u001b[0;34m)\u001b[0m\u001b[0;34m\u001b[0m\u001b[0;34m\u001b[0m\u001b[0m\n\u001b[1;32m    630\u001b[0m             _, key, var = _get_virtual_variable(\n\u001b[0;32m--> 631\u001b[0;31m                 \u001b[0mself\u001b[0m\u001b[0;34m.\u001b[0m\u001b[0m_coords\u001b[0m\u001b[0;34m,\u001b[0m \u001b[0mkey\u001b[0m\u001b[0;34m,\u001b[0m \u001b[0mself\u001b[0m\u001b[0;34m.\u001b[0m\u001b[0m_level_coords\u001b[0m\u001b[0;34m,\u001b[0m \u001b[0mdim_sizes\u001b[0m\u001b[0;34m\u001b[0m\u001b[0;34m\u001b[0m\u001b[0m\n\u001b[0m\u001b[1;32m    632\u001b[0m             )\n\u001b[1;32m    633\u001b[0m \u001b[0;34m\u001b[0m\u001b[0m\n",
      "\u001b[0;32m/ncar/usr/jupyterhub/envs/cmip6-201910a/lib/python3.7/site-packages/xarray/core/dataset.py\u001b[0m in \u001b[0;36m_get_virtual_variable\u001b[0;34m(variables, key, level_vars, dim_sizes)\u001b[0m\n\u001b[1;32m    156\u001b[0m             \u001b[0mdata\u001b[0m \u001b[0;34m=\u001b[0m \u001b[0mgetattr\u001b[0m\u001b[0;34m(\u001b[0m\u001b[0mref_var\u001b[0m\u001b[0;34m.\u001b[0m\u001b[0mdt\u001b[0m\u001b[0;34m,\u001b[0m \u001b[0mvar_name\u001b[0m\u001b[0;34m)\u001b[0m\u001b[0;34m.\u001b[0m\u001b[0mdata\u001b[0m\u001b[0;34m\u001b[0m\u001b[0;34m\u001b[0m\u001b[0m\n\u001b[1;32m    157\u001b[0m         \u001b[0;32melse\u001b[0m\u001b[0;34m:\u001b[0m\u001b[0;34m\u001b[0m\u001b[0;34m\u001b[0m\u001b[0m\n\u001b[0;32m--> 158\u001b[0;31m             \u001b[0mdata\u001b[0m \u001b[0;34m=\u001b[0m \u001b[0mgetattr\u001b[0m\u001b[0;34m(\u001b[0m\u001b[0mref_var\u001b[0m\u001b[0;34m,\u001b[0m \u001b[0mvar_name\u001b[0m\u001b[0;34m)\u001b[0m\u001b[0;34m.\u001b[0m\u001b[0mdata\u001b[0m\u001b[0;34m\u001b[0m\u001b[0;34m\u001b[0m\u001b[0m\n\u001b[0m\u001b[1;32m    159\u001b[0m         \u001b[0mvirtual_var\u001b[0m \u001b[0;34m=\u001b[0m \u001b[0mVariable\u001b[0m\u001b[0;34m(\u001b[0m\u001b[0mref_var\u001b[0m\u001b[0;34m.\u001b[0m\u001b[0mdims\u001b[0m\u001b[0;34m,\u001b[0m \u001b[0mdata\u001b[0m\u001b[0;34m)\u001b[0m\u001b[0;34m\u001b[0m\u001b[0;34m\u001b[0m\u001b[0m\n\u001b[1;32m    160\u001b[0m \u001b[0;34m\u001b[0m\u001b[0m\n",
      "\u001b[0;31mAttributeError\u001b[0m: 'IndexVariable' object has no attribute 'month'"
     ]
    }
   ],
   "source": [
    "# try to make DJf average\n",
    "da.groupby('time.month')"
   ]
  },
  {
   "cell_type": "markdown",
   "metadata": {},
   "source": [
    "## Import cartopy"
   ]
  },
  {
   "cell_type": "code",
   "execution_count": 16,
   "metadata": {
    "slideshow": {
     "slide_type": "subslide"
    }
   },
   "outputs": [],
   "source": [
    "# Importing CartoPy, Matplotlib, and numpy\n",
    "import cartopy\n",
    "import cartopy.crs as ccrs\n",
    "import matplotlib.pyplot as plt\n",
    "import numpy as np"
   ]
  },
  {
   "cell_type": "code",
   "execution_count": null,
   "metadata": {},
   "outputs": [],
   "source": [
    "# Create a figure\n",
    "fig = plt.figure(figsize=(10, 6))\n",
    "\n",
    "# Ask, out of a 1x1 grid, the first axes.\n",
    "ax = fig.add_subplot(1, 1, 1)\n",
    "\n",
    "# Plot times as x-variable and temperatures as y-variable\n",
    "ax.plot(times, temps)\n",
    "fig\n",
    "\n",
    "#canesmds.fgo2.plot()"
   ]
  },
  {
   "cell_type": "markdown",
   "metadata": {},
   "source": [
    "### More advanced queries\n",
    "\n",
    "As motivation for diving into more advanced manipulations with `intake-esm`, let's consider the task of getting access to grid information in the `Ofx` table_id."
   ]
  },
  {
   "cell_type": "code",
   "execution_count": null,
   "metadata": {},
   "outputs": [],
   "source": [
    "cat_fx = col.search(experiment_id=['historical'], source_id=models, table_id='Omon', grid_label='gn')\n",
    "cat_fx.df"
   ]
  },
  {
   "cell_type": "markdown",
   "metadata": {},
   "source": [
    "This, however, comes with lots of redundant information.\n",
    "\n",
    "Additionally, it may be necessary to do more targeted manipulations of the search. For instance, we've found a handful of corrupted files on `glade` and might need to work around loading these. \n",
    "\n",
    "As an illustration of this, in the code below, we specify a list of to queries (in this case one) to eliminate."
   ]
  },
  {
   "cell_type": "code",
   "execution_count": null,
   "metadata": {},
   "outputs": [],
   "source": [
    "# specify a list of queries to eliminate\n",
    "corrupt_data = [dict(variable_id='areacello', source_id='IPSL-CM6A-LR',\n",
    "                     experiment_id='historical', member_id='r2i1p1f1')\n",
    "               ]\n",
    "\n",
    "\n",
    "# copy the dataframe \n",
    "df = cat_fx.df.copy()\n",
    "\n",
    "# eliminate data\n",
    "for elim in corrupt_data:\n",
    "    condition = np.ones(len(df), dtype=bool)\n",
    "    for key, val in elim.items():\n",
    "        condition = condition & (df[key] == val)\n",
    "    df = df.loc[~condition]\n",
    "df    "
   ]
  },
  {
   "cell_type": "markdown",
   "metadata": {},
   "source": [
    "We then drop duplicates."
   ]
  },
  {
   "cell_type": "code",
   "execution_count": null,
   "metadata": {},
   "outputs": [],
   "source": [
    "df.drop_duplicates(subset=['source_id', 'variable_id'], inplace=True)"
   ]
  },
  {
   "cell_type": "markdown",
   "metadata": {},
   "source": [
    "Now, since we've only retained one ensemble member, we need to eliminate that column. If we omit this step, `intake-esm` will throw an error, complaining that different variables are present for each ensemble member. Setting the `member_id` column to NaN precludes attempts to join along the ensemble dimension.\n",
    "\n",
    "After this final manipulation, we copy the `DataFrame` back to the collection object and proceed with loading the data."
   ]
  },
  {
   "cell_type": "code",
   "execution_count": null,
   "metadata": {},
   "outputs": [],
   "source": [
    "df['member_id'] = np.nan\n",
    "cat_fx.df = df"
   ]
  },
  {
   "cell_type": "code",
   "execution_count": null,
   "metadata": {},
   "outputs": [],
   "source": [
    "fx_dsets = cat_fx.to_dataset_dict(zarr_kwargs={'consolidated': True}, cdf_kwargs={'chunks': {}})"
   ]
  },
  {
   "cell_type": "code",
   "execution_count": null,
   "metadata": {},
   "outputs": [],
   "source": [
    "fx_dsets.keys()"
   ]
  },
  {
   "cell_type": "code",
   "execution_count": null,
   "metadata": {},
   "outputs": [],
   "source": [
    "for key, ds in fx_dsets.items():\n",
    "    print(ds.data_vars)"
   ]
  },
  {
   "cell_type": "markdown",
   "metadata": {},
   "source": [
    "## Demonstrate how spin-up a dask cluster\n",
    "\n",
    "If you expect to require Big Data capabilities, here's how you spin up a [dask](https://dask.org) cluster using [dask-jobqueue](https://dask-jobqueue.readthedocs.io/en/latest/).\n",
    "\n",
    "The syntax is different if on an NCAR machine versus the cloud."
   ]
  },
  {
   "cell_type": "code",
   "execution_count": null,
   "metadata": {},
   "outputs": [],
   "source": [
    "if util.is_ncar_host():\n",
    "    from ncar_jobqueue import NCARCluster\n",
    "    cluster = NCARCluster(project='UCGD0006')\n",
    "    cluster.adapt(minimum_jobs=1, maximum_jobs=10)\n",
    "else:\n",
    "    from dask_kubernetes import KubeCluster\n",
    "    cluster = KubeCluster()\n",
    "    cluster.adapt(minimum=1, maximum=10)\n",
    "cluster"
   ]
  },
  {
   "cell_type": "code",
   "execution_count": null,
   "metadata": {},
   "outputs": [],
   "source": [
    "from dask.distributed import Client\n",
    "client = Client(cluster) # Connect this local process to remote workers\n",
    "client"
   ]
  },
  {
   "cell_type": "code",
   "execution_count": null,
   "metadata": {},
   "outputs": [],
   "source": []
  },
  {
   "cell_type": "code",
   "execution_count": null,
   "metadata": {},
   "outputs": [],
   "source": []
  }
 ],
 "metadata": {
  "kernelspec": {
   "display_name": "CMIP6 2019.10a",
   "language": "python",
   "name": "cmip6-201910a"
  },
  "language_info": {
   "codemirror_mode": {
    "name": "ipython",
    "version": 3
   },
   "file_extension": ".py",
   "mimetype": "text/x-python",
   "name": "python",
   "nbconvert_exporter": "python",
   "pygments_lexer": "ipython3",
   "version": "3.7.3"
  }
 },
 "nbformat": 4,
 "nbformat_minor": 4
}
