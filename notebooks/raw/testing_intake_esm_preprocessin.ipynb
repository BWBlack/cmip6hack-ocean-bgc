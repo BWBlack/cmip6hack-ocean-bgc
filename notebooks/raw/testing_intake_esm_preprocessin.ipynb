{
 "cells": [
  {
   "cell_type": "markdown",
   "metadata": {},
   "source": [
    "# Testing new intake callback\n",
    "\n",
    "installed manually with `pip install git+https://github.com/NCAR/intake-esm.git`"
   ]
  },
  {
   "cell_type": "code",
   "execution_count": 13,
   "metadata": {},
   "outputs": [],
   "source": [
    "import intake\n",
    "import intake_esm\n",
    "assert intake_esm.__version__ == '2019.10.15.post9'"
   ]
  },
  {
   "cell_type": "code",
   "execution_count": 22,
   "metadata": {},
   "outputs": [
    {
     "name": "stdout",
     "output_type": "stream",
     "text": [
      "--> The keys in the returned dictionary of datasets are constructed as follows:\n",
      "\t'activity_id.institution_id.source_id.experiment_id.table_id.grid_label'\n",
      "\n",
      "--> There will be 1 group(s)\n"
     ]
    },
    {
     "ename": "AssertionError",
     "evalue": "",
     "output_type": "error",
     "traceback": [
      "\u001b[0;31m---------------------------------------------------------------------------\u001b[0m",
      "\u001b[0;31mAssertionError\u001b[0m                            Traceback (most recent call last)",
      "\u001b[0;32m<ipython-input-22-3ba095806c2f>\u001b[0m in \u001b[0;36m<module>\u001b[0;34m\u001b[0m\n\u001b[1;32m     17\u001b[0m \u001b[0;34m\u001b[0m\u001b[0m\n\u001b[1;32m     18\u001b[0m \u001b[0;32massert\u001b[0m \u001b[0;34m'WAZOOOOOONGA'\u001b[0m \u001b[0;32min\u001b[0m \u001b[0mtest_func\u001b[0m\u001b[0;34m(\u001b[0m\u001b[0mdsets\u001b[0m\u001b[0;34m[\u001b[0m\u001b[0mk\u001b[0m\u001b[0;34m]\u001b[0m\u001b[0;34m)\u001b[0m\u001b[0;34m.\u001b[0m\u001b[0mdims\u001b[0m\u001b[0;34m\u001b[0m\u001b[0;34m\u001b[0m\u001b[0m\n\u001b[0;32m---> 19\u001b[0;31m \u001b[0;32massert\u001b[0m \u001b[0;34m'WAZOOOOOONGA'\u001b[0m \u001b[0;32min\u001b[0m \u001b[0mdsets_pp\u001b[0m\u001b[0;34m[\u001b[0m\u001b[0mk\u001b[0m\u001b[0;34m]\u001b[0m\u001b[0;34m.\u001b[0m\u001b[0mdims\u001b[0m\u001b[0;34m\u001b[0m\u001b[0;34m\u001b[0m\u001b[0m\n\u001b[0m",
      "\u001b[0;31mAssertionError\u001b[0m: "
     ]
    }
   ],
   "source": [
    "# col = intake.open_esm_datastore(\"../cmip6hack-ocean-bgc/catalogs/pangeo-cmip6.json\")\n",
    "col = intake.open_esm_datastore('../../intake-esm-datastore/catalogs/pangeo-cmip6.json')\n",
    "\n",
    "query = dict(experiment_id='historical',# table_id='Oyr', \n",
    "                 variable_id='thetao', grid_label='gn', member_id='r1i1p1f1', source_id ='GFDL-ESM4')\n",
    "cat = col.search(**query)\n",
    "\n",
    "dsets = cat.to_dataset_dict()\n",
    "k = 'CMIP.NOAA-GFDL.GFDL-ESM4.historical.Omon.gn'\n",
    "\n",
    "def test_func(ds):\n",
    "    if 'x' in ds.dims:\n",
    "        ds = ds.rename({'x':'WAZOOOOOONGA'})\n",
    "    return ds\n",
    "\n",
    "# dsets_pp = cat.to_dataset_dict(preprocess=rename_cmip6)\n",
    "dsets_pp = cat.to_dataset_dict(preprocess=test_func)\n",
    "\n",
    "assert 'WAZOOOOOONGA' in test_func(dsets[k]).dims\n",
    "assert 'WAZOOOOOONGA' in dsets_pp[k].dims"
   ]
  },
  {
   "cell_type": "code",
   "execution_count": null,
   "metadata": {},
   "outputs": [],
   "source": [
    "# col = intake.open_esm_datastore(\"../cmip6hack-ocean-bgc/catalogs/pangeo-cmip6.json\")\n",
    "col = intake.open_esm_datastore('../../intake-esm-datastore/catalogs/pangeo-cmip6.json')\n",
    "\n",
    "query = dict(experiment_id='historical',# table_id='Oyr', \n",
    "                 variable_id='thetao', grid_label='gn', member_id='r1i1p1f1', source_id ='GFDL-ESM4')\n",
    "cat1 = col.search(**query)\n",
    "\n",
    "dsets = cat1.to_dataset_dict()\n",
    "k = 'CMIP.NOAA-GFDL.GFDL-ESM4.historical.Omon.gn'\n",
    "\n",
    "def test_func(ds):\n",
    "    if 'x' in ds.dims:\n",
    "        ds = ds.rename({'x':'WAZOOOOOONGA'})\n",
    "    return ds\n",
    "\n",
    "cat2 = col.search(**query)\n",
    "\n",
    "# dsets_pp = cat.to_dataset_dict(preprocess=rename_cmip6)\n",
    "dsets_pp = cat.to_dataset_dict(preprocess=test_func)\n",
    "\n",
    "assert 'WAZOOOOOONGA' in test_func(dsets[k]).dims\n",
    "assert 'WAZOOOOOONGA' in dsets_pp[k].dims"
   ]
  }
 ],
 "metadata": {
  "kernelspec": {
   "display_name": "Python 3",
   "language": "python",
   "name": "python3"
  },
  "language_info": {
   "codemirror_mode": {
    "name": "ipython",
    "version": 3
   },
   "file_extension": ".py",
   "mimetype": "text/x-python",
   "name": "python",
   "nbconvert_exporter": "python",
   "pygments_lexer": "ipython3",
   "version": "3.7.3"
  }
 },
 "nbformat": 4,
 "nbformat_minor": 4
}
