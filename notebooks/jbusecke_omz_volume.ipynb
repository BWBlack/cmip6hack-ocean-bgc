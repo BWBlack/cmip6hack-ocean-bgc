{
 "cells": [
  {
   "cell_type": "code",
   "execution_count": 5,
   "metadata": {},
   "outputs": [],
   "source": [
    "# import some necessary stuff"
   ]
  },
  {
   "cell_type": "code",
   "execution_count": 6,
   "metadata": {},
   "outputs": [
    {
     "name": "stdout",
     "output_type": "stream",
     "text": [
      "The autoreload extension is already loaded. To reload it, use:\n",
      "  %reload_ext autoreload\n"
     ]
    }
   ],
   "source": [
    "%load_ext autoreload\n",
    "%autoreload 2"
   ]
  },
  {
   "cell_type": "code",
   "execution_count": 7,
   "metadata": {},
   "outputs": [],
   "source": [
    "%matplotlib inline\n",
    "import xarray as xr\n",
    "import intake\n",
    "import util\n",
    "import warnings\n",
    "from cmip6_preprocessing.preprocessing import read_data"
   ]
  },
  {
   "cell_type": "code",
   "execution_count": 10,
   "metadata": {},
   "outputs": [
    {
     "name": "stdout",
     "output_type": "stream",
     "text": [
      "--> The keys in the returned dictionary of datasets are constructed as follows:\n",
      "\t'activity_id.institution_id.source_id.experiment_id.table_id.grid_label'\n",
      "\n",
      "--> There will be 2 group(s)\n",
      "--> The keys in the returned dictionary of datasets are constructed as follows:\n",
      "\t'activity_id.institution_id.source_id.experiment_id.table_id.grid_label'\n",
      "\n",
      "--> There will be 4 group(s)\n",
      "--> The keys in the returned dictionary of datasets are constructed as follows:\n",
      "\t'activity_id.institution_id.source_id.experiment_id.table_id.grid_label'\n",
      "\n",
      "--> There will be 15 group(s)\n",
      "CanESM5\n",
      "NON-REFERENCE MODE. This should just be used for a bunch of variables on the same grid\n",
      "IPSL-CM6A-LR\n",
      "NON-REFERENCE MODE. This should just be used for a bunch of variables on the same grid\n"
     ]
    }
   ],
   "source": [
    "# read all data with volume and oxygen\n",
    "with warnings.catch_warnings(): # these lines just make sure that the warnings dont clutter your notebook\n",
    "    warnings.simplefilter(\"ignore\")\n",
    "    data_dict = read_data(col,\n",
    "                    experiment_id=['piControl'],\n",
    "                    grid_label='gn',\n",
    "                    variable_id=['o2','thkcello', 'areacello'],\n",
    "                    member_id = 'r1i1p1f1', # so that this runs faster for testing\n",
    "                    required_variable_id = ['o2', 'thkcello', 'areacello']\n",
    "                    )"
   ]
  },
  {
   "cell_type": "code",
   "execution_count": 11,
   "metadata": {},
   "outputs": [
    {
     "data": {
      "text/plain": [
       "<xarray.Dataset>\n",
       "Dimensions:        (axis_nbounds: 2, lev: 75, member_id: 1, nvertex: 4, time: 500, x: 362, x_right: 362, y: 332, y_right: 332)\n",
       "Coordinates:\n",
       "  * time           (time) object 1850-07-02 12:00:00 ... 2349-07-02 12:00:00\n",
       "  * lev            (lev) float32 0.50576 1.5558553 ... 5698.0605 5902.0576\n",
       "  * member_id      (member_id) <U8 'r1i1p1f1'\n",
       "  * x              (x) int64 0 1 2 3 4 5 6 7 ... 354 355 356 357 358 359 360 361\n",
       "  * x_right        (x_right) float64 0.5 1.5 2.5 3.5 ... 358.5 359.5 360.5 361.5\n",
       "  * y              (y) int64 0 1 2 3 4 5 6 7 ... 324 325 326 327 328 329 330 331\n",
       "  * y_right        (y_right) float64 0.5 1.5 2.5 3.5 ... 328.5 329.5 330.5 331.5\n",
       "    dxe            (y, x_right) float64 1.127e+04 1.127e+04 ... 777.7 777.7\n",
       "    dyn            (y_right, x) float64 1.136e+04 1.136e+04 ... 1.49e+07\n",
       "    dxt            (y, x) float64 1.127e+04 1.127e+04 ... 1.71e+03 777.7\n",
       "    dxne           (y_right, x_right) float64 1.136e+04 1.136e+04 ... 6.022e+03\n",
       "    dxn            (y_right, x) float64 1.136e+04 1.136e+04 ... 6.022e+03\n",
       "    dyt            (y, x) float64 7.454e+06 7.454e+06 ... 7.449e+06 7.449e+06\n",
       "    dyne           (y_right, x_right) float64 1.136e+04 1.136e+04 ... 1.49e+07\n",
       "    dye            (y, x_right) float64 7.454e+06 7.46e+06 ... 7.449e+06\n",
       "    area_t         (y, x) float64 8.398e+10 8.398e+10 ... 1.274e+10 5.792e+09\n",
       "    area_e         (y, x_right) float64 8.398e+10 8.405e+10 ... 5.792e+09\n",
       "    area_ne        (y_right, x_right) float64 1.291e+08 1.291e+08 ... 8.971e+10\n",
       "    area_n         (y_right, x) float64 1.291e+08 1.291e+08 ... 8.971e+10\n",
       "Dimensions without coordinates: axis_nbounds, nvertex\n",
       "Data variables:\n",
       "    lon_bounds     (y, x, nvertex) float32 dask.array<chunksize=(332, 362, 4), meta=np.ndarray>\n",
       "    lat_bounds     (y, x, nvertex) float32 dask.array<chunksize=(332, 362, 4), meta=np.ndarray>\n",
       "    lat            (y, x) float32 -84.21071 -84.21071 ... 50.01094 50.01094\n",
       "    area           (y, x) float32 dask.array<chunksize=(332, 362), meta=np.ndarray>\n",
       "    lon            (y, x) float32 72.5 73.5 74.5 75.5 ... 73.03703 73.0 72.98915\n",
       "    time_bounds    (time, axis_nbounds) object dask.array<chunksize=(500, 2), meta=np.ndarray>\n",
       "    deptht_bounds  (lev, axis_nbounds) float32 dask.array<chunksize=(75, 2), meta=np.ndarray>\n",
       "    o2             (member_id, time, lev, y, x) float32 dask.array<chunksize=(1, 9, 75, 332, 362), meta=np.ndarray>\n",
       "    thkcello       (member_id, lev, y, x) float32 dask.array<chunksize=(1, 75, 332, 362), meta=np.ndarray>\n",
       "    areacello      (member_id, y, x) float32 dask.array<chunksize=(1, 332, 362), meta=np.ndarray>"
      ]
     },
     "execution_count": 11,
     "metadata": {},
     "output_type": "execute_result"
    }
   ],
   "source": [
    "data_dict['IPSL-CM6A-LR']"
   ]
  },
  {
   "cell_type": "code",
   "execution_count": 19,
   "metadata": {},
   "outputs": [],
   "source": [
    "import numpy as np\n",
    "from xhistogram.xarray import histogram\n",
    "def omz_volume(o2, vol, o2_bins, dim=['x', 'y', 'lev']):\n",
    "    nanmask = np.isnan(o2)\n",
    "    # Should we also check the bin data for nans?\n",
    "    full_sum = histogram(\n",
    "        o2.where(~nanmask),\n",
    "        bins=[o2_bins],\n",
    "        weights=vol.where(~nanmask),\n",
    "        dim=dim,\n",
    "    )\n",
    "    return full_sum"
   ]
  },
  {
   "cell_type": "code",
   "execution_count": 20,
   "metadata": {},
   "outputs": [],
   "source": [
    "o2_bins = np.arange(0,300,10)\n",
    "ds_test = data_dict['IPSL-CM6A-LR']\n",
    "vol = ds_test.areacello * ds_test.thkcello\n",
    "\n",
    "omz_vol = omz_volume(ds_test.o2, vol, o2_bins)"
   ]
  },
  {
   "cell_type": "code",
   "execution_count": null,
   "metadata": {},
   "outputs": [],
   "source": [
    "omz_vol.isel(time=0).plot()"
   ]
  },
  {
   "cell_type": "code",
   "execution_count": null,
   "metadata": {},
   "outputs": [],
   "source": []
  }
 ],
 "metadata": {
  "kernelspec": {
   "display_name": "Python 3",
   "language": "python",
   "name": "python3"
  },
  "language_info": {
   "codemirror_mode": {
    "name": "ipython",
    "version": 3
   },
   "file_extension": ".py",
   "mimetype": "text/x-python",
   "name": "python",
   "nbconvert_exporter": "python",
   "pygments_lexer": "ipython3",
   "version": "3.7.3"
  }
 },
 "nbformat": 4,
 "nbformat_minor": 4
}
